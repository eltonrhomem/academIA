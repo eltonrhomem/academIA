{
  "metadata": {
    "kernelspec": {
      "display_name": "Python (Pyodide)",
      "language": "python",
      "name": "python"
    },
    "language_info": {
      "codemirror_mode": {
        "name": "python",
        "version": 3
      },
      "file_extension": ".py",
      "mimetype": "text/x-python",
      "name": "python",
      "nbconvert_exporter": "python",
      "pygments_lexer": "ipython3",
      "version": "3.8"
    }
  },
  "nbformat_minor": 5,
  "nbformat": 4,
  "cells": [
    {
      "id": "12c66376-3398-4026-a393-14779d9808bd",
      "cell_type": "markdown",
      "source": "# Identificação do participante\n\nPreencha a célula abaixo com sua matrícula no formato F + 7 algarismos, sem dígito verificador.\n\nExemplo:\n\n    chaveF = \"F2872541\"",
      "metadata": {}
    },
    {
      "id": "b08cd02a-a955-46a3-ba14-3022c52f5db5",
      "cell_type": "code",
      "source": "chaveF = 'F2872541'",
      "metadata": {
        "tags": [],
        "trusted": true
      },
      "outputs": [],
      "execution_count": 1
    },
    {
      "id": "cb711518-fbff-4a4d-97db-9379e9a80acf",
      "cell_type": "markdown",
      "source": "# Desafio Engenharia de Dados\n\nA Dipes precisa fazer o acompanhamento do cumprimento dos indicadores de algumas Unidades Estratégicas e solicitou à UAN o desenvolvimento de um dashboard. Os colegas da equipe de Dataviz identificaram a necessidade de <b>disponibilização de algumas bases de dados</b> para desenvolvimento do dashboard, principalmente para o acompanhamento das <b>Trilhas de Capacitação</b> das Unidades Estratégicas:\n\n|PREFIXO|SIGLA|\n|---|---|\n|8008|DIREC|\n|8556|DICRE|\n|8559|DIPES|\n|8593|DIGOV|\n|9797|UCI|\n|9880|DIMEP|\n|9968|UAN|\n|9973|DIEMP|\n\nA equipe de Engenharia de Dados foi então acionada para preparação das bases de dados conforme abaixo detalhado.\n\n<b>Dados essenciais:</b>\n- acompanhamento do cumprimento do indicador de capacitação por matrícula dos funcionários das Diretorias alvo da análise\n- acompanhamento do cumprimento por UOR das Unidades Estratégicas, contendo a Vice-Presidência jurisdicionante\n\nAlém disso, a equipe de Dataviz solicitou que a equipe de engenharia reunisse algumas informações úteis para análise e levantamento de insights, tais como:\n- dados de função, escolaridade, idade, tempo de banco e estado civil de cada funcionário das dependências citadas.\n- detalhamentos sobre a área dos cursos que os funcionários concluíram nos últimos 3 anos para identificação do perfil.",
      "metadata": {}
    },
    {
      "id": "6ecac00e-cfb2-4265-a22c-d16134d44987",
      "cell_type": "markdown",
      "source": "# Orientações Gerais:\n\n1) Inclua sua matrícula na seção de Identificação, no início deste Notebook.\n\n2) **Link para envio das soluções:**\n\n- https://envio-academiabb.bb.com.br/\n\n    - **Atenção:** não serão acatadas outras formas de envio. O link acima permite acesso com senha de portais externos.\n\n3) Selecione a Trilha Engenharia ao enviar.\n\n**Nome do arquivo:** cada participante deverá baixar o presente arquivo e renomeá-lo de modo a conter:\n\n- A matrícula com F maiúsculo, sete algarismos e sem dígito (FXXXXXXX)\n\n- A trilha a qual a entrega se refere em letras minúsculas: engenharia\n\n- O nome não deve conter espaços em branco. Substitua-os por “_”.\n\n- O versionamento será gerado automaticamente na subida do arquivo, por meio do timestamp do envio.\n\n    - Exemplo1: F1234567_engenharia.ipynb\n\n    - Exemplo2: F1234567_engenharia_v3.ipynb\n\n**Formato:** .ipynb\n\n- **Atenção:** não carregar nenhum outro formato de arquivo, pois será ignorado\n\n**Prazo final:** até às 18h (horário de Brasília) do dia 20/09/2024.\n\n## Requerimentos de versões\n\nPara construção do desafio em qualquer ambiente diferente do [labblite](https://labblite.bb.com.br/), deverão ser utilizadas as versões de biblioteca abaixo especificadas:\n\n|Biblioteca|Versão|\n|---|---|\n|pandas|1.5.2 ou inferior|\n|numpy|1.23.5 ou inferior|\n|unidecode|1.3.8 ou inferior|\n|pathlib|sem indicativo de versão|\n|glob|sem indicativo de versão|\n\nEssas versões são padrão no labblite, e você pode checar após importação da biblioteca por meio da instrução:\n    \n    print(nome_biblioteca. __version__)\n\nCaso identifique a necessidade de utilização de alguma biblioteca diferente das listadas acima, entre em contato com a comissão organizadora para verificar a possibilidade de utilização no script, sob o risco de gerar erros durante a validação.\n\n## Pode:\n\n- Inserir células no notebook.\n\n    Obs: as células adicionadas após a seção do Boletim de Soluções não surtirão efeitos para fins de validação dos resultados dos exercícios propostos.\n\n- Fazer vários envios (tantos quantos forem necessários).\n\n- Nas máquinas do Banco, desenvolver na plataforma [Labblite](https://labblite.bb.com.br/)\n\n- O participante que optar por desenvolver no computador pessoal, poderá utilizar qualquer plataforma que permita a execução de scripts em Python, desde que atente para as versões das bibliotecas mencionadas na seção \"Requerimentos de versões\" acima especificada.\n    \n    Atenção: consulte as versões homologadas pelo Banco no aplicativo <b>BB Verifica Software</b> antes de instalar qualquer aplicativo nas máquinas corporativas.\n\n## Não pode:\n\n- Compartilhar arquivos/código, sob pena de desclassificação de todas as partes envolvidas.\n\n- Alterar as bases de dados disponibilizadas. Os itens contidos na pasta “bases” devem permanecer inalterados quanto a:\n    - Nome e tipo dos arquivos/pastas\n    - Conteúdo\n    - Estrutura das pastas iniciando em “bases”\n\n- Descompactar os arquivos correspondentes às bases de dados. Os arquivos disponibilizados no formato .zip deverão ser lidos nesse mesmo formato.\n\n- Gerar arquivos de qualquer formato durante a execução, com exceção daqueles gerados pelo Boletim de Soluções.\n\n- Utilizar outros arquivos além dos disponibilizados no pacote do desafio do Eixo Temático Engenharia de Dados.\n\n- Excluir ou alterar linhas do Boletim de Soluções (exceto quando explicitamente orientado pela comissão organizadora do Programa).\n\n- Apresentar erros no código no momento da validação.\n\n- O tempo total de execução do notebook não poderá exceder 2 minutos. \n\n- Importar bibliotecas no código enviado para validação. Caso necessite instalar bibliotecas durante o desenvolvimento da solução, as linhas deverão ser comentadas antes do envio, sob o risco de apresentar erros ou exceder o tempo de execução do notebook durante a validação dos exercícios.\n    \n    *Atenção:* as bibliotecas mapeadas estarão previamente instaladas no ambiente de execução da solução validadora. Caso identifique a necessidade de utilizar alguma biblioteca diferente das mencionadas na seção \"Requerimentos de versões\", entre em contato com a comissão organizadora para verificar a viabilidade de utilização.\n\n## Geras para o Nome Físico das colunas\n\n- Observe atentamente a documentação constante no enunciado de cada exercício, para evitar apontamentos nas verificações.\n\n- A ordem dos atributos deverá ser obedecida na construção dos DataFrames.\n\n- A nomenclatura de todos os campos dos DataFrames deverá seguir o padrão de nomenclatura do Banco, conforme consulta disponível no Glossário.\n\n- O nome físico não deve conter espaços, devendo as abreviações ser separadas por “_”. \n\n- Todas as palavras do Nome Lógico deverão ser abreviadas, com exceção apenas das preposições (ex.: de, com, para, até, etc.).\n\n- Ao consultar o Glossário, é importante atentar para a existência de palavras compostas, que devem ser abreviadas juntas.\n\n## Demais recomendações/Orientações\n\n- Leia atentamente o enunciado dos exercícios. Eventuais cálculos, formatações, filtros, transformações ou arredondamentos dos dados serão detalhados na descrição de cada atributo.\n\n- Verifique o indicativo de nível de dificuldade e de ordem de solução dos exercícios, pois alguns têm como requisito a conclusão de algum exercício anterior na íntegra.\n\n- Não se esqueça de salvar seu projeto! Sugerimos fazer vários versionamentos dos arquivos, para não correr riscos de perder alterações e para ter um backup, caso algo não saia como o planejado.\n\n- Não se assuste com os apontamentos de erros durante o desenvolvimento dos exercícios. Observe as orientações e dicas para solucioná-los com maior assertividade.\n\n- Ao fazer junção de tabelas, não se esqueça de conferir as quantidades de linhas e colunas das tabelas originais e tenha sempre em mente o seu objetivo antes de escolher o método de junção (interna, esquerda, direita ou total).\n\n- Ao copiar variáveis, utilize preferencialmente o método copy() para evitar corromper as variáveis que serão utilizadas para conferência dos exercícios.\n\n- Faça envios parciais, tantos quanto for necessário. Não há limite de quantidade de envios. O ideal é submeter seu notebook a cada exercício concluído, para evitar acúmulo de apontamentos na validação. \n\n- Execute o Notebook na íntegra antes de efetuar seus envios para testar o tempo de execução e a ocorrência de erros, mesmo que ainda não tenha finalizado todos os exercícios.\n\n- Utilize o Boletim de Soluções ao final do Notebook Modelo para checar a existência das variáveis de cada exercício. Não se esqueça de informar a sua chave F (chaveF) na seção de Identificação. \n\n- Após execução na íntegra do seu notebook, visualize suas variáveis finais, aquelas que serão utilizadas para correção dos exercícios, para chegar eventuais alterações indesejadas nas variáveis. Exemplo:\n    \n        exercicio1.info()\n        exercicio2.info()\n\n\n**Atenção:** encorajamos a colaboração entre os participantes, porém sempre no sentido de ajudar os demais a chegarem à resposta, nunca respondendo diretamente às perguntas ou compartilhando os arquivos/código. ",
      "metadata": {
        "jp-MarkdownHeadingCollapsed": true,
        "tags": []
      }
    },
    {
      "id": "5b670427-6706-4282-aeb2-bf3bb7a148a9",
      "cell_type": "markdown",
      "source": "# Importar bibliotecas\n\nUse esse espaço para importar as bibliotecas necessárias para execução do seu notebook.\n\nLembrando que eventuais instalações de bibliotecas durante o desenvolvimento deverão ser retiradas ou comentadas antes do envio.",
      "metadata": {
        "tags": []
      }
    },
    {
      "id": "2ff68ebe-4639-4157-a3ee-23697430471c",
      "cell_type": "code",
      "source": "# Atenção, somente descomente as células abaixo caso não esteja desenvolvendo no labblite\n# após instalação, comente novamente as células\n\n#!pip3 install --force-reinstall --user pandas==1.5.2\n#!pip3 install --force-reinstall --user numpy==1.23.5\n#!pip3 install --force-reinstall --user unidecode==1.3.8 ",
      "metadata": {
        "trusted": true
      },
      "outputs": [],
      "execution_count": null
    },
    {
      "id": "0451d52b-b87e-4b7a-8e1f-a2e02d52ead3",
      "cell_type": "code",
      "source": "# as celulas abaixo referem-se a instalação e importação de bibliotecas para desenvolvimento da solução\n# favor não alterar esta célula sem antes consultar a comissão organizadora\n\ntry:\n    import micropip \n    await micropip.install('pandas')\n    import pandas as pd\n    await micropip.install('unidecode')\n    from unidecode import unidecode\n    await micropip.install('numpy')\n    import numpy as np\n    import warnings\n    warnings.filterwarnings(\"ignore\")\n    from pathlib import Path\n    import glob\n    \n    mensagem = \"Importações de bibliotecas executadas com sucesso\"\nexcept:\n    try:\n        import pandas as pd\n        from unidecode import unidecode\n        import numpy as np\n        import warnings\n        warnings.filterwarnings(\"ignore\")\n        from pathlib import Path\n        import glob\n\n        mensagem = \"Importações de bibliotecas executadas com sucesso\"\n    except Exception as e:\n        mensagem = f\"{e.args[0]} \\nImportações de bibliotecas não executada\"\nfinally:\n    print(mensagem)",
      "metadata": {
        "trusted": true
      },
      "outputs": [
        {
          "name": "stdout",
          "text": "Importações de bibliotecas executadas com sucesso\n",
          "output_type": "stream"
        }
      ],
      "execution_count": 1
    },
    {
      "id": "b80386bd-184a-4ece-89a0-829b1dfba6b9",
      "cell_type": "code",
      "source": "def converter_texto(texto):\n    if pd.isnull(texto):\n        return texto\n    return unidecode(texto).upper()",
      "metadata": {
        "trusted": true
      },
      "outputs": [],
      "execution_count": 2
    },
    {
      "id": "c7e43ed0-b939-4458-ab6e-57f6b75abebf",
      "cell_type": "markdown",
      "source": "# Exercício 1 - Tabela de Vínculo entre as Unidades Organizacionais\n\n<b>Nível de dificuldade:</b> 1\n\n<b>Ordem:</b> qualquer\n\nCriar um DataFrame Pandas chamado <b>exercicio1</b> com a tabela que contém o vínculo entre as UORs do Banco.\n\nNa tabela abaixo especificamos as <b>informações descritivas</b> (nome, formato dos dados, etc.) dos atributos (colunas) que deverão constar no dataframe resultante:\n\n||Nome Lógico|Nome Físico|Formato|Descrição|Aceita Nulos|Tabela Origem|Atributo Origem|\n|---|---|---|---|---|---|---|---|\n|1|Código da Unidade Organizacional Vinculada|CD_UOR_VCLD|Int64|Código identificador de Unidade Organizacional (UOR) vinculada ou JURISDICIONADA.|N|VCL_UOR|CD_UOR_VCLD\n|2|Código do Tipo de Vínculo|CD_TIP_VCL|Int64|Código identificador do Tipo de Vínculo ou JURISDIÇÃO utilizado para a vinculação entre Unidades Organizacionais.|N|VCL_UOR|CD_TIP_VCL\n|3|Código da Unidade Organizacional Vinculadora|CD_UOR_VCLR|Int64|Código identificador da Unidade Organizacional vinculadora ou JURISDICIONANTE, conforme determinado Tipo de Vínculo ou jurisdição.|N|VCL_UOR|CD_UOR_VCLR\n|4|Número do Intervalo de Nível Hierárquico|NR_ITVL_NVL_HRQO|Int64|Representa o intervalo de nível hierárquico entre a UOR Vinculada e a UOR Vinculadora. A partir deste atributo, é possível saber quantos níveis acima ou abaixo encontra-se uma UOR Vinculadora em relação à UOR Vinculada.|S|VCL_UOR|NR_ITVL_NVL_HRQO\n\nAo final do exerício, o resultado da consulta do cabeçado (<b>.head()</b>) do dataframe exercicio1 deverá seguir a estrutura abaixo exemplificada:\n\n- código a ser executado:\n\n\n    <i>exercicio1.head()</i>\n\n- exemplo de resultado do código acima com valores fictícios:\n\n||CD_UOR_VCLD|CD_TIP_VCL|CD_UOR_VCLR|NR_ITVL_NVL_HRQO|\n|---|---|---|---|---|\n|0|9999|99|1111|&lt;NA&gt;|\n|1|9999|101|2222|&lt;NA&gt;|\n|2|9999|1100|3333|&lt;NA&gt;|\n|3|9999|1200|4444|&lt;NA&gt;|\n|4|9999|1220|5555|&lt;NA&gt;|\n\n   \n<b>Regra:</b> a ordem das colunas deverá obedecer à ordem da tabela de informações descritivas constante do enunciado.\n\n<b>Dica 1:</b> verifique o <b>Vocabulário de Termos</b> anexo para saber mais sobre o termo <b>&lt;NA&gt;</b> e o tipo <b>Int64</b>.\n\n<b>Dica 2:</b> os registros nulos somente deverão ser tratados quando expressamente orientado no enunciado do exercício.",
      "metadata": {
        "tags": []
      }
    },
    {
      "id": "4cc3e85a-2819-4351-8db2-7619f0c23f10",
      "cell_type": "code",
      "source": "exercicio1 = pd.read_csv('bases/VCL_UOR.csv', sep=';')\nexercicio1['CD_UOR_VCLD'] = pd.to_numeric(exercicio1['CD_UOR_VCLD']).astype('Int64')\nexercicio1['CD_TIP_VCL'] = pd.to_numeric(exercicio1['CD_TIP_VCL']).astype('Int64')\nexercicio1['CD_UOR_VCLR'] = pd.to_numeric(exercicio1['CD_UOR_VCLR']).astype('Int64')\nexercicio1['NR_ITVL_NVL_HRQO'] = pd.to_numeric(exercicio1['NR_ITVL_NVL_HRQO']).astype('Int64')",
      "metadata": {
        "trusted": true
      },
      "outputs": [],
      "execution_count": 7
    },
    {
      "id": "7d48260c-25d0-4c99-9772-faa8f8950703",
      "cell_type": "code",
      "source": "exercicio1.head(5)",
      "metadata": {
        "trusted": true
      },
      "outputs": [
        {
          "execution_count": 8,
          "output_type": "execute_result",
          "data": {
            "text/plain": "   CD_UOR_VCLD  CD_TIP_VCL  CD_UOR_VCLR  NR_ITVL_NVL_HRQO\n0         9598          99         4924              <NA>\n1         9598         101         9598              <NA>\n2         9598        1060        38047              <NA>\n3         9598        1090         7638              <NA>\n4         9598        1100         1993              <NA>",
            "text/html": "<div>\n<style scoped>\n    .dataframe tbody tr th:only-of-type {\n        vertical-align: middle;\n    }\n\n    .dataframe tbody tr th {\n        vertical-align: top;\n    }\n\n    .dataframe thead th {\n        text-align: right;\n    }\n</style>\n<table border=\"1\" class=\"dataframe\">\n  <thead>\n    <tr style=\"text-align: right;\">\n      <th></th>\n      <th>CD_UOR_VCLD</th>\n      <th>CD_TIP_VCL</th>\n      <th>CD_UOR_VCLR</th>\n      <th>NR_ITVL_NVL_HRQO</th>\n    </tr>\n  </thead>\n  <tbody>\n    <tr>\n      <th>0</th>\n      <td>9598</td>\n      <td>99</td>\n      <td>4924</td>\n      <td>&lt;NA&gt;</td>\n    </tr>\n    <tr>\n      <th>1</th>\n      <td>9598</td>\n      <td>101</td>\n      <td>9598</td>\n      <td>&lt;NA&gt;</td>\n    </tr>\n    <tr>\n      <th>2</th>\n      <td>9598</td>\n      <td>1060</td>\n      <td>38047</td>\n      <td>&lt;NA&gt;</td>\n    </tr>\n    <tr>\n      <th>3</th>\n      <td>9598</td>\n      <td>1090</td>\n      <td>7638</td>\n      <td>&lt;NA&gt;</td>\n    </tr>\n    <tr>\n      <th>4</th>\n      <td>9598</td>\n      <td>1100</td>\n      <td>1993</td>\n      <td>&lt;NA&gt;</td>\n    </tr>\n  </tbody>\n</table>\n</div>"
          },
          "metadata": {}
        }
      ],
      "execution_count": 8
    },
    {
      "id": "35c11c2f-6eba-463d-9020-5f7bf7676784",
      "cell_type": "code",
      "source": "exercicio1.info()",
      "metadata": {
        "trusted": true
      },
      "outputs": [
        {
          "name": "stdout",
          "text": "<class 'pandas.core.frame.DataFrame'>\nRangeIndex: 40869 entries, 0 to 40868\nData columns (total 4 columns):\n #   Column            Non-Null Count  Dtype\n---  ------            --------------  -----\n 0   CD_UOR_VCLD       40869 non-null  Int64\n 1   CD_TIP_VCL        40869 non-null  Int64\n 2   CD_UOR_VCLR       40869 non-null  Int64\n 3   NR_ITVL_NVL_HRQO  8452 non-null   Int64\ndtypes: Int64(4)\nmemory usage: 1.4 MB\n",
          "output_type": "stream"
        }
      ],
      "execution_count": 7
    },
    {
      "id": "22f31329-1147-49a4-8fd7-a40a9a6ca7c7",
      "cell_type": "code",
      "source": "",
      "metadata": {
        "trusted": true
      },
      "outputs": [],
      "execution_count": null
    },
    {
      "id": "250c21fe-1ebc-45e0-bb8d-7a28ec1ffa2b",
      "cell_type": "markdown",
      "source": "# Exercício 2 - Tabela de Unidades Organizacionais (UOR) do BB\n\n<b>Nível de dificuldade (1 a 5):</b> 2\n\n<b>Ordem:</b> qualquer\n\nCriar um DataFrame Pandas chamado <b>exercicio2</b> com a tabela UORs do BB, conforme detalhado abaixo:\n\n||Nome Lógico|Nome Físico|Formato|Descrição|Aceita Nulos|Tabela Origem|Atributo Origem|\n|---|---|---|---|---|---|---|---|\n|1|Código da Unidade Organizacional|CD_UOR|Int64|Código identificador de Unidade Organizacional (UOR) do conglomerado Banco do Brasil (no Brasil e Exterior) ou UOR externas que o BB tenha algum tipo de relacionamento ou interesse em identificá-las.|N|UOR|CD_UOR\n|2|Nome da Unidade Organizacional Reduzido|NM_UOR_RDZ|object|Nome reduzido da Unidade Organizacional.|N|UOR|NM_UOR_RDZ\n|3|Sigla da Unidade Organizacional|SG_UOR|object|Reunião das letras iniciais dos vocábulos fundamentais de uma denominação ou título, sem articulação prosódica, constituindo meras abreviaturas. Ex.: \"DITEC\", \"GBASE\", \"DIREO\", \"PRESI\", etc.|S|UOR|SG_UOR\n|4|Data Início de Validade|DT_INC_VLD|datetime64[ns]|Data em que o registro passa a ter validade (geralmente coincide com a data de inclusão).  Formato \"AAAA-MM-DD\".|N|UOR|DT_INC_VLD\n|5|Código do Item da Arquitetura da Unidade Organizacional|CD_ITEM_AQTT_UOR|Int64|Código identificador dos Itens de Arquitetura que existem em uma Instituição Organizacional para orientação da estrutura das Unidades Organizacionais (oriundo do sistema IOR).|N|UOR|CD_ITEM_AQTT_UOR\n|6|Código do Tipo da Unidade Organizacional|CD_TIP_UOR|Int64|Código identificador dos Tipos nos quais as Unidades Organizacionais podem ser classificadas. Ex.: \"001 - Governo\" \"003 - Canal de Atendimento\",  \"004 - Dependências BB\",  \"005 - Exterior\" etc. |N|UOR|CD_TIP_UOR\n|7|Código da Dependência da Unidade Organizacional|CD_DEPE_UOR|Int64|Código identificador de Dependências de Instituições Organizacionais. No BB atualmente é utilizado os domínios entre 1 e 9999.Ex.: \"0001 - Ag. Rio de Janeiro\", \"4886 - Ag. Estilo Alvorada-Brasília\"|N|UOR|CD_DEPE_UOR\n|8|Número da Ordem da Dependência Subordinada|NR_ORD_DEPE_SBDD|Int64|Número identificador de subordinação de uma dependência de IOR's que possuam em sua organização subdependências ou subordinadas. 0 indica a UOR principal da dependência|N|UOR|NR_ORD_DEPE_SBDD\n\n<b>Regra 1:</b> considere apenas as UORs da Instituição Organizacional \"Banco do Brasil\".\n\n<b>Regra 2:</b> considere apenas as UORs \"em funcionamento\".\n\n<b>Dica: </b>atenção para o formato da data.\n",
      "metadata": {
        "tags": []
      }
    },
    {
      "id": "440cd86f-4aee-43a7-8a42-652ec36b019f",
      "cell_type": "code",
      "source": "exercicio2 = pd.DataFrame()\nfor i in range(1,13):\n    zip_file = f'bases/UOR/uor{i:02d}.zip'\n    df = pd.read_csv(zip_file, compression='zip')\n    exercicio2 = pd.concat([exercicio2, df])\nexercicio2 = exercicio2.query('CD_IOR == 1 and CD_EST_UOR == 2')\nexercicio2.head()",
      "metadata": {
        "trusted": true
      },
      "outputs": [
        {
          "execution_count": 8,
          "output_type": "execute_result",
          "data": {
            "text/plain": "   CD_UOR  CD_IOR            NM_UOR_RDZ  \\\n0       1       1  RIO                    \n2       3       1  MANAUS                 \n3       4       1  PRESIDENTE VARGAS      \n4       5       1  SANTOS                 \n6       7       1  CAMPOS GOYTACAZES      \n\n                                              NM_UOR  DT_INC_VLD  DT_FIM_VLD  \\\n0  RIO-RIO DE JANEIRO,RJ                         ...  02/05/1936  31/12/9999   \n2  MANAUS-MANAUS,AM                              ...  14/01/1908  31/12/9999   \n3  PRESIDENTE VARGAS-BELEM,PA                    ...  01/07/1908  31/12/9999   \n4  SANTOS,SANTOS-SP                              ...  22/08/1908  31/12/9999   \n6  CAMPOS DOS GOYTACAZES-CAMPOS DOS GOYTACAZES,RJ...  26/06/1910  31/12/9999   \n\n       DT_ATL    HR_ATL CD_RSP_ATL  CD_ITEM_AQTT_UOR  ...  NR_CNPJ_UOR  \\\n0  17/12/2008  17:02:59   F6774737                54  ...         6197   \n2  17/12/2008  17:02:59   F2363941                54  ...         9381   \n3  17/12/2008  17:02:59   F0310265                54  ...         9578   \n4  17/12/2008  17:02:59   F1053138                54  ...         3551   \n6  17/12/2008  17:02:59   F2213181                54  ...         7908   \n\n   SG_UOR  IN_RST_ACSS_PSS  IN_UOR_UNCO_MUN DT_INC_ATVD_UOR DT_PRVT_ECR_UOR  \\\n0     NaN                N                N      02/05/1936      31/12/9999   \n2     NaN                N                N      14/01/1908      31/12/9999   \n3     NaN                N                N      01/07/1908      31/12/9999   \n4     NaN                N                N      22/08/1908      31/12/9999   \n6     NaN                N                N      26/06/1910      31/12/9999   \n\n  CD_ENT_LCZC_UOR CD_DEPE_UOR NR_ORD_DEPE_SBDD  DV_CD_DEPE_UOR  \n0             NaN         1.0              0.0               5  \n2             NaN         2.0              0.0               6  \n3             NaN         3.0              0.0               5  \n4             NaN         4.0              0.0               4  \n6             NaN         5.0              0.0               2  \n\n[5 rows x 23 columns]",
            "text/html": "<div>\n<style scoped>\n    .dataframe tbody tr th:only-of-type {\n        vertical-align: middle;\n    }\n\n    .dataframe tbody tr th {\n        vertical-align: top;\n    }\n\n    .dataframe thead th {\n        text-align: right;\n    }\n</style>\n<table border=\"1\" class=\"dataframe\">\n  <thead>\n    <tr style=\"text-align: right;\">\n      <th></th>\n      <th>CD_UOR</th>\n      <th>CD_IOR</th>\n      <th>NM_UOR_RDZ</th>\n      <th>NM_UOR</th>\n      <th>DT_INC_VLD</th>\n      <th>DT_FIM_VLD</th>\n      <th>DT_ATL</th>\n      <th>HR_ATL</th>\n      <th>CD_RSP_ATL</th>\n      <th>CD_ITEM_AQTT_UOR</th>\n      <th>...</th>\n      <th>NR_CNPJ_UOR</th>\n      <th>SG_UOR</th>\n      <th>IN_RST_ACSS_PSS</th>\n      <th>IN_UOR_UNCO_MUN</th>\n      <th>DT_INC_ATVD_UOR</th>\n      <th>DT_PRVT_ECR_UOR</th>\n      <th>CD_ENT_LCZC_UOR</th>\n      <th>CD_DEPE_UOR</th>\n      <th>NR_ORD_DEPE_SBDD</th>\n      <th>DV_CD_DEPE_UOR</th>\n    </tr>\n  </thead>\n  <tbody>\n    <tr>\n      <th>0</th>\n      <td>1</td>\n      <td>1</td>\n      <td>RIO</td>\n      <td>RIO-RIO DE JANEIRO,RJ                         ...</td>\n      <td>02/05/1936</td>\n      <td>31/12/9999</td>\n      <td>17/12/2008</td>\n      <td>17:02:59</td>\n      <td>F6774737</td>\n      <td>54</td>\n      <td>...</td>\n      <td>6197</td>\n      <td>NaN</td>\n      <td>N</td>\n      <td>N</td>\n      <td>02/05/1936</td>\n      <td>31/12/9999</td>\n      <td>NaN</td>\n      <td>1.0</td>\n      <td>0.0</td>\n      <td>5</td>\n    </tr>\n    <tr>\n      <th>2</th>\n      <td>3</td>\n      <td>1</td>\n      <td>MANAUS</td>\n      <td>MANAUS-MANAUS,AM                              ...</td>\n      <td>14/01/1908</td>\n      <td>31/12/9999</td>\n      <td>17/12/2008</td>\n      <td>17:02:59</td>\n      <td>F2363941</td>\n      <td>54</td>\n      <td>...</td>\n      <td>9381</td>\n      <td>NaN</td>\n      <td>N</td>\n      <td>N</td>\n      <td>14/01/1908</td>\n      <td>31/12/9999</td>\n      <td>NaN</td>\n      <td>2.0</td>\n      <td>0.0</td>\n      <td>6</td>\n    </tr>\n    <tr>\n      <th>3</th>\n      <td>4</td>\n      <td>1</td>\n      <td>PRESIDENTE VARGAS</td>\n      <td>PRESIDENTE VARGAS-BELEM,PA                    ...</td>\n      <td>01/07/1908</td>\n      <td>31/12/9999</td>\n      <td>17/12/2008</td>\n      <td>17:02:59</td>\n      <td>F0310265</td>\n      <td>54</td>\n      <td>...</td>\n      <td>9578</td>\n      <td>NaN</td>\n      <td>N</td>\n      <td>N</td>\n      <td>01/07/1908</td>\n      <td>31/12/9999</td>\n      <td>NaN</td>\n      <td>3.0</td>\n      <td>0.0</td>\n      <td>5</td>\n    </tr>\n    <tr>\n      <th>4</th>\n      <td>5</td>\n      <td>1</td>\n      <td>SANTOS</td>\n      <td>SANTOS,SANTOS-SP                              ...</td>\n      <td>22/08/1908</td>\n      <td>31/12/9999</td>\n      <td>17/12/2008</td>\n      <td>17:02:59</td>\n      <td>F1053138</td>\n      <td>54</td>\n      <td>...</td>\n      <td>3551</td>\n      <td>NaN</td>\n      <td>N</td>\n      <td>N</td>\n      <td>22/08/1908</td>\n      <td>31/12/9999</td>\n      <td>NaN</td>\n      <td>4.0</td>\n      <td>0.0</td>\n      <td>4</td>\n    </tr>\n    <tr>\n      <th>6</th>\n      <td>7</td>\n      <td>1</td>\n      <td>CAMPOS GOYTACAZES</td>\n      <td>CAMPOS DOS GOYTACAZES-CAMPOS DOS GOYTACAZES,RJ...</td>\n      <td>26/06/1910</td>\n      <td>31/12/9999</td>\n      <td>17/12/2008</td>\n      <td>17:02:59</td>\n      <td>F2213181</td>\n      <td>54</td>\n      <td>...</td>\n      <td>7908</td>\n      <td>NaN</td>\n      <td>N</td>\n      <td>N</td>\n      <td>26/06/1910</td>\n      <td>31/12/9999</td>\n      <td>NaN</td>\n      <td>5.0</td>\n      <td>0.0</td>\n      <td>2</td>\n    </tr>\n  </tbody>\n</table>\n<p>5 rows × 23 columns</p>\n</div>"
          },
          "metadata": {}
        }
      ],
      "execution_count": 8
    },
    {
      "id": "4516e089-dbca-4aa8-97d7-80e1f4503f8c",
      "cell_type": "code",
      "source": "exercicio2['CD_UOR'] = pd.to_numeric(exercicio2['CD_UOR']).astype('Int64')\nexercicio2['DT_INC_VLD'] = pd.to_datetime(exercicio2['DT_INC_VLD'], format='%d/%m/%Y')\nexercicio2['CD_ITEM_AQTT_UOR'] = pd.to_numeric(exercicio2['CD_ITEM_AQTT_UOR']).astype('Int64')\nexercicio2['CD_TIP_UOR'] = pd.to_numeric(exercicio2['CD_TIP_UOR']).astype('Int64')\nexercicio2['CD_DEPE_UOR'] = pd.to_numeric(exercicio2['CD_DEPE_UOR']).astype('Int64')\nexercicio2['NR_ORD_DEPE_SBDD'] = pd.to_numeric(exercicio2['NR_ORD_DEPE_SBDD']).astype('Int64')\nselecionar_colunas = ['CD_UOR', 'NM_UOR_RDZ', 'SG_UOR', 'DT_INC_VLD', 'CD_ITEM_AQTT_UOR', 'CD_TIP_UOR', 'CD_DEPE_UOR', 'NR_ORD_DEPE_SBDD']\nexercicio2 = exercicio2[selecionar_colunas]\n",
      "metadata": {
        "trusted": true
      },
      "outputs": [],
      "execution_count": 10
    },
    {
      "id": "17dd6a85-c9ac-4e8f-9f77-1f40f5174495",
      "cell_type": "code",
      "source": "exercicio2.info()\nexercicio2.head()",
      "metadata": {
        "trusted": true
      },
      "outputs": [
        {
          "name": "stdout",
          "text": "<class 'pandas.core.frame.DataFrame'>\nInt64Index: 43005 entries, 0 to 20832\nData columns (total 8 columns):\n #   Column            Non-Null Count  Dtype         \n---  ------            --------------  -----         \n 0   CD_UOR            43005 non-null  Int64         \n 1   NM_UOR_RDZ        43005 non-null  object        \n 2   SG_UOR            39719 non-null  object        \n 3   DT_INC_VLD        43005 non-null  datetime64[ns]\n 4   CD_ITEM_AQTT_UOR  43005 non-null  Int64         \n 5   CD_TIP_UOR        43005 non-null  Int64         \n 6   CD_DEPE_UOR       43005 non-null  Int64         \n 7   NR_ORD_DEPE_SBDD  43005 non-null  Int64         \ndtypes: Int64(5), datetime64[ns](1), object(2)\nmemory usage: 2.8+ MB\n",
          "output_type": "stream"
        },
        {
          "execution_count": 9,
          "output_type": "execute_result",
          "data": {
            "text/plain": "   CD_UOR            NM_UOR_RDZ SG_UOR DT_INC_VLD  CD_ITEM_AQTT_UOR  \\\n0       1  RIO                     NaN 1936-05-02                54   \n2       3  MANAUS                  NaN 1908-01-14                54   \n3       4  PRESIDENTE VARGAS       NaN 1908-07-01                54   \n4       5  SANTOS                  NaN 1908-08-22                54   \n6       7  CAMPOS GOYTACAZES       NaN 1910-06-26                54   \n\n   CD_TIP_UOR  CD_DEPE_UOR  NR_ORD_DEPE_SBDD  \n0           4            1                 0  \n2           4            2                 0  \n3           4            3                 0  \n4           4            4                 0  \n6           4            5                 0  ",
            "text/html": "<div>\n<style scoped>\n    .dataframe tbody tr th:only-of-type {\n        vertical-align: middle;\n    }\n\n    .dataframe tbody tr th {\n        vertical-align: top;\n    }\n\n    .dataframe thead th {\n        text-align: right;\n    }\n</style>\n<table border=\"1\" class=\"dataframe\">\n  <thead>\n    <tr style=\"text-align: right;\">\n      <th></th>\n      <th>CD_UOR</th>\n      <th>NM_UOR_RDZ</th>\n      <th>SG_UOR</th>\n      <th>DT_INC_VLD</th>\n      <th>CD_ITEM_AQTT_UOR</th>\n      <th>CD_TIP_UOR</th>\n      <th>CD_DEPE_UOR</th>\n      <th>NR_ORD_DEPE_SBDD</th>\n    </tr>\n  </thead>\n  <tbody>\n    <tr>\n      <th>0</th>\n      <td>1</td>\n      <td>RIO</td>\n      <td>NaN</td>\n      <td>1936-05-02</td>\n      <td>54</td>\n      <td>4</td>\n      <td>1</td>\n      <td>0</td>\n    </tr>\n    <tr>\n      <th>2</th>\n      <td>3</td>\n      <td>MANAUS</td>\n      <td>NaN</td>\n      <td>1908-01-14</td>\n      <td>54</td>\n      <td>4</td>\n      <td>2</td>\n      <td>0</td>\n    </tr>\n    <tr>\n      <th>3</th>\n      <td>4</td>\n      <td>PRESIDENTE VARGAS</td>\n      <td>NaN</td>\n      <td>1908-07-01</td>\n      <td>54</td>\n      <td>4</td>\n      <td>3</td>\n      <td>0</td>\n    </tr>\n    <tr>\n      <th>4</th>\n      <td>5</td>\n      <td>SANTOS</td>\n      <td>NaN</td>\n      <td>1908-08-22</td>\n      <td>54</td>\n      <td>4</td>\n      <td>4</td>\n      <td>0</td>\n    </tr>\n    <tr>\n      <th>6</th>\n      <td>7</td>\n      <td>CAMPOS GOYTACAZES</td>\n      <td>NaN</td>\n      <td>1910-06-26</td>\n      <td>54</td>\n      <td>4</td>\n      <td>5</td>\n      <td>0</td>\n    </tr>\n  </tbody>\n</table>\n</div>"
          },
          "metadata": {}
        }
      ],
      "execution_count": 9
    },
    {
      "id": "f11cfd26-6749-4ddd-a479-b0656ebcd517",
      "cell_type": "markdown",
      "source": "# Exercício 3 - Tabela de cursos realizados por funcionário\n\n<b>Nível de dificuldade (1 a 5):</b> 1\n\n<b>Ordem:</b> qualquer\n\nCriar um DataFrame Pandas chamado <b>exercicio3</b> com a tabela dos cursos realizados pelos funcionários, conforme detalhado abaixo:\n\n||Nome Lógico|Nome Físico|Formato|Descrição|Aceita Nulos|Tabela Origem|Atributo Origem|\n|---|---|---|---|---|---|---|---|\n|1|Codigo de matricula do funcionario|?|Int64|Código da matrícula do funcionário. |N|?|?|\n|2|Código do Curso|?|Int64|Identificador do curso. Campo numérico de 7 posições. |N|?|?|\n|3|Data final do curso|?|datetime64[ns]|Data que identifica a finalizaçao do curso. Formato \"AAAA-MM-DD\".|N|?|?|\n|4|Codigo de origem do curso|?|Int64|O conteudo deste campo indentificara a origem do curso. Exemplo: 01-ARH, 02-GTD, 03-PFP, 04-ALURA, 05-UNIBB, 17-SYNAPSE|N|?|?|\n\n<b>Dica 1:</b> para construir o nome físico das tabelas, consulte as abreviações no Glossário de Termos.\n\n<b>Dica 2:</b> atenção para o formato da matrícula.",
      "metadata": {
        "tags": []
      }
    },
    {
      "id": "aee7e25d-8783-47e8-bd0a-a181f547fd0d",
      "cell_type": "code",
      "source": "exercicio3 = pd.DataFrame()\nfor i in range(1,12):\n    zip_file = f'bases/CSO_PSS_ITSE_SIS/cso_pss_itse_sis{i:02d}.zip'\n    df = pd.read_csv(zip_file, compression='zip')\n    exercicio3 = pd.concat([exercicio3, df])\nexercicio3['MATRICULA'] = exercicio3['MATRICULA'].str.replace('F','').astype('Int64')\nexercicio3['DT_FIM_CSO'] = pd.to_datetime(exercicio3['DT_FIM_CSO'])\nexercicio3 = exercicio3.rename(columns={\n    'MATRICULA': 'CD_MTC_FUN'    \n})\n\nexercicio3['CD_MTC_FUN'] = pd.to_numeric(exercicio3['CD_MTC_FUN']).astype('Int64')\nexercicio3['CD_CSO'] = pd.to_numeric(exercicio3['CD_CSO']).astype('Int64')\nexercicio3['CD_OGM_CSO'] = pd.to_numeric(exercicio3['CD_OGM_CSO']).astype('Int64')",
      "metadata": {
        "trusted": true
      },
      "outputs": [],
      "execution_count": 10
    },
    {
      "id": "4aab7c59-b722-4911-9665-58e008fd1a88",
      "cell_type": "code",
      "source": "exercicio3.info()\n",
      "metadata": {
        "trusted": true
      },
      "outputs": [
        {
          "name": "stdout",
          "text": "<class 'pandas.core.frame.DataFrame'>\nInt64Index: 1953341 entries, 0 to 8340\nData columns (total 4 columns):\n #   Column      Dtype         \n---  ------      -----         \n 0   CD_MTC_FUN  Int64         \n 1   CD_CSO      Int64         \n 2   DT_FIM_CSO  datetime64[ns]\n 3   CD_OGM_CSO  Int64         \ndtypes: Int64(3), datetime64[ns](1)\nmemory usage: 80.1 MB\n",
          "output_type": "stream"
        }
      ],
      "execution_count": 11
    },
    {
      "id": "0b63fb37-5c1a-4523-88cf-276792efdcff",
      "cell_type": "code",
      "source": "exercicio3.head()",
      "metadata": {
        "trusted": true
      },
      "outputs": [
        {
          "execution_count": 12,
          "output_type": "execute_result",
          "data": {
            "text/plain": "   CD_MTC_FUN  CD_CSO DT_FIM_CSO  CD_OGM_CSO\n0     3066439     127 2008-04-04           4\n1     3066439     350 2012-05-18           4\n2     3066439     569 2013-10-22           4\n3     3066439     828 2016-10-07           4\n4     3066439    1251 2013-11-13           4",
            "text/html": "<div>\n<style scoped>\n    .dataframe tbody tr th:only-of-type {\n        vertical-align: middle;\n    }\n\n    .dataframe tbody tr th {\n        vertical-align: top;\n    }\n\n    .dataframe thead th {\n        text-align: right;\n    }\n</style>\n<table border=\"1\" class=\"dataframe\">\n  <thead>\n    <tr style=\"text-align: right;\">\n      <th></th>\n      <th>CD_MTC_FUN</th>\n      <th>CD_CSO</th>\n      <th>DT_FIM_CSO</th>\n      <th>CD_OGM_CSO</th>\n    </tr>\n  </thead>\n  <tbody>\n    <tr>\n      <th>0</th>\n      <td>3066439</td>\n      <td>127</td>\n      <td>2008-04-04</td>\n      <td>4</td>\n    </tr>\n    <tr>\n      <th>1</th>\n      <td>3066439</td>\n      <td>350</td>\n      <td>2012-05-18</td>\n      <td>4</td>\n    </tr>\n    <tr>\n      <th>2</th>\n      <td>3066439</td>\n      <td>569</td>\n      <td>2013-10-22</td>\n      <td>4</td>\n    </tr>\n    <tr>\n      <th>3</th>\n      <td>3066439</td>\n      <td>828</td>\n      <td>2016-10-07</td>\n      <td>4</td>\n    </tr>\n    <tr>\n      <th>4</th>\n      <td>3066439</td>\n      <td>1251</td>\n      <td>2013-11-13</td>\n      <td>4</td>\n    </tr>\n  </tbody>\n</table>\n</div>"
          },
          "metadata": {}
        }
      ],
      "execution_count": 12
    },
    {
      "id": "edcd62cd-148e-4a78-bad8-8552ae9d6d6c",
      "cell_type": "code",
      "source": "",
      "metadata": {
        "trusted": true
      },
      "outputs": [],
      "execution_count": null
    },
    {
      "id": "fa1dafc4-d10d-4f09-a56c-4cf9b57a3798",
      "cell_type": "code",
      "source": "",
      "metadata": {
        "trusted": true
      },
      "outputs": [],
      "execution_count": null
    },
    {
      "id": "bb4c5b31-3082-4bb2-9bb8-16fe19787204",
      "cell_type": "markdown",
      "source": "# Exercício 4 - Tabela de cadastro dos funcionários\n\n<b>Nível de dificuldade (1 a 5):</b> 2\n\n<b>Ordem:</b> qualquer\n\nCriar um DataFrame Pandas chamado <b>exercicio4</b> com a tabela de cadastro dos funcionários, conforme detalhado abaixo:\n\n||Nome Lógico|Nome Físico|Formato|Descrição|Aceita Nulos|Tabela Origem|Atributo Origem|\n|---|---|---|---|---|---|---|---|\n|1|Codigo de matricula do funcionario|?|Int64|Código da matrícula (F) do funcionário. |N|CAD_FUN|?\n|2|Nome do funcionário|?|object|Nome do funcionário cadastrado no ARH. Formato: caixa alta, sem acentuação.|N|CAD_FUN|?\n|3|Sigla do Tipo do Estado Civil|?|object|Sigla ARH que define o estado civil do funcionário. |N|CAD_FUN|?\n|4|Código do Tipo de Nível de Instrução|?|Int64|Código ARH do nível de instrução. |N|CAD_FUN|?\n|5|Data de nascimento|?|datetime64[ns]|Data de nascimento. Formato \"AAAA-MM-DD\".|N|CAD_FUN|?\n|6|Código do Tipo de Gênero|?|Int64|Código ARH do sexo/gênero. 1 -Masculino, 2 - Feminino.|N|CAD_FUN|?\n|7|Código do Prefixo da Dependência de Localização|?|Int64|Código do prefixo da dependência de localização (UOR). |N|CAD_FUN|?\n|8|Código de Função ou Cargo Efetiva|?|Int64|Código ARH da função ou cargo efetivo. Exemplo: 610 - ESCRITURARIO, 12381 - ASSESSOR II UE etc. |N|CAD_FUN|?\n|9|Data de Posse na Localização|?|datetime64[ns]|Data de posse na dependência de localização (UOR).  Formato \"AAAA-MM-DD\".|N|CAD_FUN|?\n|10|Data de posse no BB|?|datetime64[ns]|Data de posse no Banco do Brasil. Formato \"AAAA-MM-DD\".|N|CAD_FUN|?\n\n<b>Dica:</b> atenção para a formatação do nome.",
      "metadata": {
        "tags": []
      }
    },
    {
      "id": "79d4aaf5-889e-4241-9e37-df3492e089b2",
      "cell_type": "code",
      "source": "exercicio4 = pd.read_csv('bases/CAD_FUN.csv', sep=',', converters={\n    'NOME': converter_texto\n})\nexercicio4['NASC_DT'] = pd.to_datetime(exercicio4['NASC_DT'])\nexercicio4['LOCALIZACAO_DT'] = pd.to_datetime(exercicio4['LOCALIZACAO_DT'])\nexercicio4['POSSE_BANCO_DT'] = pd.to_datetime(exercicio4['POSSE_BANCO_DT'])\nexercicio4 = exercicio4.rename(columns={\n    'MATRICULA': 'CD_MTC_FUN',\n    'NOME': 'NM_FUN',\n    'EST_CIVIL': 'SG_TIP_EST_CVL',\n    'GRAU_INSTRUCAO': 'CD_TIP_NVL_ITC',\n    'NASC_DT': 'DT_NSC',\n    'SEXO': 'CD_TIP_GNR',\n    'LOCALIZACAO': 'CD_PRF_DEPE_LCZC',\n    'FUNCAO_LOCALIZACAO': 'CD_FUC_CRG_EFT',\n    'LOCALIZACAO_DT': 'DT_PSSE_LCZC',\n    'POSSE_BANCO_DT': 'DT_PSSE_BB'\n    \n})\nexercicio4['CD_MTC_FUN'] = pd.to_numeric(exercicio4['CD_MTC_FUN']).astype('Int64')\nexercicio4['CD_TIP_NVL_ITC'] = pd.to_numeric(exercicio4['CD_TIP_NVL_ITC']).astype('Int64')\nexercicio4['CD_TIP_GNR'] = pd.to_numeric(exercicio4['CD_TIP_GNR']).astype('Int64')\nexercicio4['CD_PRF_DEPE_LCZC'] = pd.to_numeric(exercicio4['CD_PRF_DEPE_LCZC']).astype('Int64')\nexercicio4['CD_FUC_CRG_EFT'] = pd.to_numeric(exercicio4['CD_FUC_CRG_EFT']).astype('Int64')\nexercicio4.info()",
      "metadata": {
        "trusted": true
      },
      "outputs": [
        {
          "name": "stdout",
          "text": "<class 'pandas.core.frame.DataFrame'>\nRangeIndex: 5287 entries, 0 to 5286\nData columns (total 10 columns):\n #   Column            Non-Null Count  Dtype         \n---  ------            --------------  -----         \n 0   CD_MTC_FUN        5287 non-null   Int64         \n 1   NM_FUN            5287 non-null   object        \n 2   SG_TIP_EST_CVL    5287 non-null   object        \n 3   CD_TIP_NVL_ITC    5287 non-null   Int64         \n 4   DT_NSC            5287 non-null   datetime64[ns]\n 5   CD_TIP_GNR        5287 non-null   Int64         \n 6   CD_PRF_DEPE_LCZC  5287 non-null   Int64         \n 7   CD_FUC_CRG_EFT    5287 non-null   Int64         \n 8   DT_PSSE_LCZC      5287 non-null   datetime64[ns]\n 9   DT_PSSE_BB        5287 non-null   datetime64[ns]\ndtypes: Int64(5), datetime64[ns](3), object(2)\nmemory usage: 397.6+ KB\n",
          "output_type": "stream"
        }
      ],
      "execution_count": 9
    },
    {
      "id": "eb1f7a24-7fca-4613-bedf-a2ab2e973efd",
      "cell_type": "code",
      "source": "exercicio4",
      "metadata": {
        "trusted": true
      },
      "outputs": [
        {
          "execution_count": 10,
          "output_type": "execute_result",
          "data": {
            "text/plain": "      CD_MTC_FUN                NM_FUN SG_TIP_EST_CVL  CD_TIP_NVL_ITC  \\\n0         665496       AGATHA DA COSTA              2               8   \n1         724351           ALEXIA DIAS              8               8   \n2         850407       ALLANA MENDONCA              1               8   \n3         872028          AMANDA SOUSA              2               8   \n4         971323  ANA CLARA MONTENEGRO              2               8   \n...          ...                   ...            ...             ...   \n5282     9666342        VALENTINA DIAS              1               8   \n5283     9794067    VITOR HUGO PIMENTA              1               8   \n5284     9829830        VITORIA BORGES              2               8   \n5285     9893842        YAGO RODRIGUES              3               8   \n5286     9990080             ZOE RAMOS              1               8   \n\n                            DT_NSC  CD_TIP_GNR  CD_PRF_DEPE_LCZC  \\\n0    1970-01-01 00:00:00.004111966           2              8008   \n1    1970-01-01 00:00:00.020021981           2              8008   \n2    1970-01-01 00:00:00.004101983           2              8008   \n3    1970-01-01 00:00:00.030051979           2              8008   \n4    1970-01-01 00:00:00.009121982           2              8008   \n...                            ...         ...               ...   \n5282 1970-01-01 00:00:00.028011981           2              9984   \n5283 1970-01-01 00:00:00.003011975           1              9984   \n5284 1970-01-01 00:00:00.010031980           2              9984   \n5285 1970-01-01 00:00:00.016011977           1              9984   \n5286 1970-01-01 00:00:00.012031981           2              9984   \n\n      CD_FUC_CRG_EFT DT_PSSE_LCZC DT_PSSE_BB  \n0              12392   2024-05-21 2008-10-01  \n1              12331   2017-02-21 2002-12-16  \n2              12331   2023-10-30 2012-06-11  \n3              12331   2022-05-23 2015-08-03  \n4              12331   2023-07-06 2016-01-25  \n...              ...          ...        ...  \n5282           12381   2023-06-26 2006-11-06  \n5283           12381   2021-02-22 2010-06-28  \n5284           12331   2012-05-02 1998-06-22  \n5285           12051   2023-03-07 1986-10-16  \n5286           12010   2022-11-17 2003-05-05  \n\n[5287 rows x 10 columns]",
            "text/html": "<div>\n<style scoped>\n    .dataframe tbody tr th:only-of-type {\n        vertical-align: middle;\n    }\n\n    .dataframe tbody tr th {\n        vertical-align: top;\n    }\n\n    .dataframe thead th {\n        text-align: right;\n    }\n</style>\n<table border=\"1\" class=\"dataframe\">\n  <thead>\n    <tr style=\"text-align: right;\">\n      <th></th>\n      <th>CD_MTC_FUN</th>\n      <th>NM_FUN</th>\n      <th>SG_TIP_EST_CVL</th>\n      <th>CD_TIP_NVL_ITC</th>\n      <th>DT_NSC</th>\n      <th>CD_TIP_GNR</th>\n      <th>CD_PRF_DEPE_LCZC</th>\n      <th>CD_FUC_CRG_EFT</th>\n      <th>DT_PSSE_LCZC</th>\n      <th>DT_PSSE_BB</th>\n    </tr>\n  </thead>\n  <tbody>\n    <tr>\n      <th>0</th>\n      <td>665496</td>\n      <td>AGATHA DA COSTA</td>\n      <td>2</td>\n      <td>8</td>\n      <td>1970-01-01 00:00:00.004111966</td>\n      <td>2</td>\n      <td>8008</td>\n      <td>12392</td>\n      <td>2024-05-21</td>\n      <td>2008-10-01</td>\n    </tr>\n    <tr>\n      <th>1</th>\n      <td>724351</td>\n      <td>ALEXIA DIAS</td>\n      <td>8</td>\n      <td>8</td>\n      <td>1970-01-01 00:00:00.020021981</td>\n      <td>2</td>\n      <td>8008</td>\n      <td>12331</td>\n      <td>2017-02-21</td>\n      <td>2002-12-16</td>\n    </tr>\n    <tr>\n      <th>2</th>\n      <td>850407</td>\n      <td>ALLANA MENDONCA</td>\n      <td>1</td>\n      <td>8</td>\n      <td>1970-01-01 00:00:00.004101983</td>\n      <td>2</td>\n      <td>8008</td>\n      <td>12331</td>\n      <td>2023-10-30</td>\n      <td>2012-06-11</td>\n    </tr>\n    <tr>\n      <th>3</th>\n      <td>872028</td>\n      <td>AMANDA SOUSA</td>\n      <td>2</td>\n      <td>8</td>\n      <td>1970-01-01 00:00:00.030051979</td>\n      <td>2</td>\n      <td>8008</td>\n      <td>12331</td>\n      <td>2022-05-23</td>\n      <td>2015-08-03</td>\n    </tr>\n    <tr>\n      <th>4</th>\n      <td>971323</td>\n      <td>ANA CLARA MONTENEGRO</td>\n      <td>2</td>\n      <td>8</td>\n      <td>1970-01-01 00:00:00.009121982</td>\n      <td>2</td>\n      <td>8008</td>\n      <td>12331</td>\n      <td>2023-07-06</td>\n      <td>2016-01-25</td>\n    </tr>\n    <tr>\n      <th>...</th>\n      <td>...</td>\n      <td>...</td>\n      <td>...</td>\n      <td>...</td>\n      <td>...</td>\n      <td>...</td>\n      <td>...</td>\n      <td>...</td>\n      <td>...</td>\n      <td>...</td>\n    </tr>\n    <tr>\n      <th>5282</th>\n      <td>9666342</td>\n      <td>VALENTINA DIAS</td>\n      <td>1</td>\n      <td>8</td>\n      <td>1970-01-01 00:00:00.028011981</td>\n      <td>2</td>\n      <td>9984</td>\n      <td>12381</td>\n      <td>2023-06-26</td>\n      <td>2006-11-06</td>\n    </tr>\n    <tr>\n      <th>5283</th>\n      <td>9794067</td>\n      <td>VITOR HUGO PIMENTA</td>\n      <td>1</td>\n      <td>8</td>\n      <td>1970-01-01 00:00:00.003011975</td>\n      <td>1</td>\n      <td>9984</td>\n      <td>12381</td>\n      <td>2021-02-22</td>\n      <td>2010-06-28</td>\n    </tr>\n    <tr>\n      <th>5284</th>\n      <td>9829830</td>\n      <td>VITORIA BORGES</td>\n      <td>2</td>\n      <td>8</td>\n      <td>1970-01-01 00:00:00.010031980</td>\n      <td>2</td>\n      <td>9984</td>\n      <td>12331</td>\n      <td>2012-05-02</td>\n      <td>1998-06-22</td>\n    </tr>\n    <tr>\n      <th>5285</th>\n      <td>9893842</td>\n      <td>YAGO RODRIGUES</td>\n      <td>3</td>\n      <td>8</td>\n      <td>1970-01-01 00:00:00.016011977</td>\n      <td>1</td>\n      <td>9984</td>\n      <td>12051</td>\n      <td>2023-03-07</td>\n      <td>1986-10-16</td>\n    </tr>\n    <tr>\n      <th>5286</th>\n      <td>9990080</td>\n      <td>ZOE RAMOS</td>\n      <td>1</td>\n      <td>8</td>\n      <td>1970-01-01 00:00:00.012031981</td>\n      <td>2</td>\n      <td>9984</td>\n      <td>12010</td>\n      <td>2022-11-17</td>\n      <td>2003-05-05</td>\n    </tr>\n  </tbody>\n</table>\n<p>5287 rows × 10 columns</p>\n</div>"
          },
          "metadata": {}
        }
      ],
      "execution_count": 10
    },
    {
      "id": "d11c9ed1-4d1c-4a3e-ba7e-1781086851e1",
      "cell_type": "code",
      "source": "",
      "metadata": {
        "trusted": true
      },
      "outputs": [],
      "execution_count": null
    },
    {
      "id": "29404859-efcc-4b9a-8fd5-adeb8d837e49",
      "cell_type": "markdown",
      "source": "# Exercício 5 - Incremento da tabela de cadastro de funcionários\n\n<b>Nível de dificuldade (1 a 5):</b> 3\n\n<b>Requisitos:</b> exercício 4\n\nCriar um DataFrame Pandas chamado <b>exercicio5</b> contendo os campos adicionais do cadastro do funcionários, conforme abaixo detalhado:\n\n||Nome Lógico|Nome Físico|Formato|Descrição|Aceita Nulos|Tabela Origem|Atributo Origem|\n|---|---|---|---|---|---|---|---|\n|1|Codigo de matricula do funcionario|?|Int64|Código da matrícula (F) do funcionário. |N|?|?|\n|2|Nome do funcionário|?|object|Nome do funcionário cadastrado no ARH. Formato: caixa alta, sem acentuação.|N|?|?|\n|3|Código de Função ou Cargo Efetiva|?|Int64|Código ARH da função ou cargo efetivo. Exemplo: 610, 12381, etc. |N|?|?|\n|4|Nome da Função ou Cargo Efetivo|?|object|Nome da função ou cargo efetivo. Exemplo: 610 - ESCRITURARIO, 12381 - ASSESSOR II UE etc. |S|?|?|\n|5|Código do Prefixo da Dependência de Localização|?|Int64|Código do prefixo da dependência de localização (UOR). |N|?|?|\n|6|Data de Posse na Localização|?|datetime64[ns]|Data de posse na dependência de localização (UOR).  Formato \"AAAA-MM-DD\".|N|?|?|\n|7|Data de posse no BB|?|datetime64[ns]|Data de posse no Banco do Brasil. Formato \"AAAA-MM-DD\".|N|?|?|\n|8|Data de nascimento|?|datetime64[ns]|Data de nascimento. Formato \"AAAA-MM-DD\".|N|?|?|\n|9|Código do Tipo de Gênero|?|Int64|Código ARH do sexo/gênero. 1 -Masculino, 2 - Feminino.|N|?|?|\n|10|Sigla do Tipo do Estado Civil|?|object|Sigla ARH que define o estado civil do funcionário. |N|?|?|\n|11|Nome do Tipo de Estado Civil|?|object|Descrição do estado civil do funcionário. |N|?|?|\n|12|Código do Tipo de Nível de Instrução|?|Int64|Código ARH do nível de instrução. |N|?|?|\n|13|Nome do Tipo de Nível de Instrução|?|object|Descrição do nível de instrução. |N|?|?|\n\n<b>Regra 1:</b> para a descrição do estado civil, considere os valores abaixo:\n\n|Cod.|Descrição|\n|---|---|\n|1|SOLTEIRO(A)|\n|2|CASADO(A)|\n|3|CASADO(A) COM FUNCIONARIA(O)|\n|4|VIUVO(A)|\n|5|SEPARADO(A) JUDICIAL OU EXTRAJ|\n|8|DIVORCIADO(A)|\n|M|SEPARADO(A) CONSENSUALMENTE|\n\n<b>Regra 2:</b> para a descrição do nível de instrução, considere os valores abaixo:\n\n|Cod.|Descrição|\n|---|---|\n|1|ENSINO FUNDAMENTAL|\n|2|ENSINO MEDIO|\n|3|SUPERIOR EM ANDAMENTO|\n|4|SUPERIOR SEQUENCIAL|\n|5|SUPERIOR GRADUACAO|\n|6|POS-GRADUACAO-APERFEIC|\n|7|POS-GRADUCAO-ESPEC|\n|8|MESTRADO|\n|9|DOUTORADO|",
      "metadata": {
        "tags": []
      }
    },
    {
      "id": "65ec73d9-9ba6-4332-bc8a-df4f1517f671",
      "cell_type": "code",
      "source": "exercicio5 = exercicio4.copy()\n# 5287\ndf_fuc_fun = pd.read_csv('bases/FUC_FUN.csv')\ndf_cad_fun = pd.read_csv('bases/CAD_FUN.csv')\n\ndc_grau_instrucao =  {\n                        1: 'ENSINO FUNDAMENTAL',\n                        2: 'ENSINO MEDIO',\n                        3: 'SUPERIOR EM ANDAMENTO',\n                        4: 'SUPERIOR SEQUENCIAL',\n                        5: 'SUPERIOR GRADUACAO',\n                        6: 'POS-GRADUACAO-APERFEIC',\n                        7: 'POS-GRADUCAO-ESPEC',\n                        8: 'MESTRADO',\n                        9: 'DOUTORADO'                       \n                        }\n\n\ndc_estado_civil = {\n    '1': 'SOLTEIRO(A)',\n    '2': 'CASADO(A)',\n    '3': 'CASADO(A) COM FUNCIONARIA(O)',\n    '4': 'VIUVO(A)',\n    '5': 'SEPARADO(A) JUDICIAL OU EXTRAJ',\n    '8': 'DIVORCIADO(A)',\n    'M': 'SEPARADO(A) CONSENSUALMENTE'\n}\n\n",
      "metadata": {
        "trusted": true
      },
      "outputs": [],
      "execution_count": 137
    },
    {
      "id": "9af727e8-0958-4281-a27b-474013a58940",
      "cell_type": "code",
      "source": "exercicio5['NM_TIP_EST_CVL'] = exercicio5['SG_TIP_EST_CVL'].map(dc_estado_civil)\nexercicio5['NM_TIP_NVL_ITC'] = exercicio5['CD_TIP_NVL_ITC'].map(dc_grau_instrucao)\n\n# exercicio5 = pd.merge(exercicio5, df_cad_fun, left_on='CD_FUC_CRG_EFT', right_on='FUNCAO_LOCALIZACAO', how='inner')\n# exercicio5 = pd.merge(exercicio5, df_estado_civil, on='SG_TIP_EST_CVL', how='inner')\nexercicio5 = pd.merge(exercicio5, df_fuc_fun, left_on='CD_FUC_CRG_EFT', right_on='CD_FUC_FUN', how='left')\n# exercicio5 = pd.merge(exercicio5, df_grau_instrucao, on='CD_TIP_NVL_ITC', how='left')\n# exercicio5 = pd.merge(exercicio5, df_cad_fun,  )\n\ncolunas = [\n    'CD_MTC_FUN'\n     ,'NM_FUN'\n    ,'CD_FUC_CRG_EFT' \n    , 'NM_FUC_FUN'    \n    ,'CD_PRF_DEPE_LCZC' ,\n    'DT_PSSE_LCZC', 'DT_PSSE_BB', 'DT_NSC', 'CD_TIP_GNR', 'SG_TIP_EST_CVL',\n    'NM_TIP_EST_CVL', 'CD_TIP_NVL_ITC', 'NM_TIP_NVL_ITC'\n]\n\nexercicio5 = exercicio5[colunas]\nexercicio5 = exercicio5.rename(columns={\n    'NM_FUC_FUN': 'NM_FUC_CRG_EFT',\n})\nexercicio5['CD_MTC_FUN'] = pd.to_numeric(exercicio5['CD_MTC_FUN']).astype('Int64')\nexercicio5['CD_FUC_CRG_EFT'] = pd.to_numeric(exercicio5['CD_FUC_CRG_EFT']).astype('Int64')\nexercicio5['CD_PRF_DEPE_LCZC'] = pd.to_numeric(exercicio5['CD_PRF_DEPE_LCZC']).astype('Int64')\nexercicio5['CD_TIP_GNR'] = pd.to_numeric(exercicio5['CD_TIP_GNR']).astype('Int64')\nexercicio5['CD_TIP_NVL_ITC'] = pd.to_numeric(exercicio5['CD_TIP_NVL_ITC']).astype('Int64')",
      "metadata": {
        "trusted": true
      },
      "outputs": [],
      "execution_count": 149
    },
    {
      "id": "6b2d5cf9-37cd-455a-a329-8f7d06b6bc16",
      "cell_type": "code",
      "source": "exercicio5.info()",
      "metadata": {
        "trusted": true
      },
      "outputs": [
        {
          "name": "stdout",
          "text": "<class 'pandas.core.frame.DataFrame'>\nInt64Index: 5287 entries, 0 to 5286\nData columns (total 13 columns):\n #   Column            Non-Null Count  Dtype         \n---  ------            --------------  -----         \n 0   CD_MTC_FUN        5287 non-null   Int64         \n 1   NM_FUN            5287 non-null   object        \n 2   CD_FUC_CRG_EFT    5287 non-null   Int64         \n 3   NM_FUC_CRG_EFT    5262 non-null   object        \n 4   CD_PRF_DEPE_LCZC  5287 non-null   Int64         \n 5   DT_PSSE_LCZC      5287 non-null   datetime64[ns]\n 6   DT_PSSE_BB        5287 non-null   datetime64[ns]\n 7   DT_NSC            5287 non-null   datetime64[ns]\n 8   CD_TIP_GNR        5287 non-null   Int64         \n 9   SG_TIP_EST_CVL    5287 non-null   object        \n 10  NM_TIP_EST_CVL    5287 non-null   object        \n 11  CD_TIP_NVL_ITC    5287 non-null   Int64         \n 12  NM_TIP_NVL_ITC    5287 non-null   object        \ndtypes: Int64(5), datetime64[ns](3), object(5)\nmemory usage: 500.8+ KB\n",
          "output_type": "stream"
        }
      ],
      "execution_count": 150
    },
    {
      "id": "43f9eda3-30e7-4433-9f44-e67f55e2e583",
      "cell_type": "code",
      "source": "exercicio5",
      "metadata": {
        "trusted": true
      },
      "outputs": [
        {
          "execution_count": 151,
          "output_type": "execute_result",
          "data": {
            "text/plain": "      CD_MTC_FUN                NM_FUN  CD_FUC_CRG_EFT    NM_FUC_CRG_EFT  \\\n0         665496       AGATHA DA COSTA           12392   ASSESSOR III UE   \n1         724351           ALEXIA DIAS           12331     ASSESSOR I UE   \n2         850407       ALLANA MENDONCA           12331     ASSESSOR I UE   \n3         872028          AMANDA SOUSA           12331     ASSESSOR I UE   \n4         971323  ANA CLARA MONTENEGRO           12331     ASSESSOR I UE   \n...          ...                   ...             ...               ...   \n5282     9666342        VALENTINA DIAS           12381    ASSESSOR II UE   \n5283     9794067    VITOR HUGO PIMENTA           12381    ASSESSOR II UE   \n5284     9829830        VITORIA BORGES           12331     ASSESSOR I UE   \n5285     9893842        YAGO RODRIGUES           12051   GER SOLUCOES UE   \n5286     9990080             ZOE RAMOS           12010  GER EXECUTIVO UE   \n\n      CD_PRF_DEPE_LCZC DT_PSSE_LCZC DT_PSSE_BB                        DT_NSC  \\\n0                 8008   2024-05-21 2008-10-01 1970-01-01 00:00:00.004111966   \n1                 8008   2017-02-21 2002-12-16 1970-01-01 00:00:00.020021981   \n2                 8008   2023-10-30 2012-06-11 1970-01-01 00:00:00.004101983   \n3                 8008   2022-05-23 2015-08-03 1970-01-01 00:00:00.030051979   \n4                 8008   2023-07-06 2016-01-25 1970-01-01 00:00:00.009121982   \n...                ...          ...        ...                           ...   \n5282              9984   2023-06-26 2006-11-06 1970-01-01 00:00:00.028011981   \n5283              9984   2021-02-22 2010-06-28 1970-01-01 00:00:00.003011975   \n5284              9984   2012-05-02 1998-06-22 1970-01-01 00:00:00.010031980   \n5285              9984   2023-03-07 1986-10-16 1970-01-01 00:00:00.016011977   \n5286              9984   2022-11-17 2003-05-05 1970-01-01 00:00:00.012031981   \n\n      CD_TIP_GNR SG_TIP_EST_CVL                NM_TIP_EST_CVL  CD_TIP_NVL_ITC  \\\n0              2              2                     CASADO(A)               8   \n1              2              8                 DIVORCIADO(A)               8   \n2              2              1                   SOLTEIRO(A)               8   \n3              2              2                     CASADO(A)               8   \n4              2              2                     CASADO(A)               8   \n...          ...            ...                           ...             ...   \n5282           2              1                   SOLTEIRO(A)               8   \n5283           1              1                   SOLTEIRO(A)               8   \n5284           2              2                     CASADO(A)               8   \n5285           1              3  CASADO(A) COM FUNCIONARIA(O)               8   \n5286           2              1                   SOLTEIRO(A)               8   \n\n     NM_TIP_NVL_ITC  \n0          MESTRADO  \n1          MESTRADO  \n2          MESTRADO  \n3          MESTRADO  \n4          MESTRADO  \n...             ...  \n5282       MESTRADO  \n5283       MESTRADO  \n5284       MESTRADO  \n5285       MESTRADO  \n5286       MESTRADO  \n\n[5287 rows x 13 columns]",
            "text/html": "<div>\n<style scoped>\n    .dataframe tbody tr th:only-of-type {\n        vertical-align: middle;\n    }\n\n    .dataframe tbody tr th {\n        vertical-align: top;\n    }\n\n    .dataframe thead th {\n        text-align: right;\n    }\n</style>\n<table border=\"1\" class=\"dataframe\">\n  <thead>\n    <tr style=\"text-align: right;\">\n      <th></th>\n      <th>CD_MTC_FUN</th>\n      <th>NM_FUN</th>\n      <th>CD_FUC_CRG_EFT</th>\n      <th>NM_FUC_CRG_EFT</th>\n      <th>CD_PRF_DEPE_LCZC</th>\n      <th>DT_PSSE_LCZC</th>\n      <th>DT_PSSE_BB</th>\n      <th>DT_NSC</th>\n      <th>CD_TIP_GNR</th>\n      <th>SG_TIP_EST_CVL</th>\n      <th>NM_TIP_EST_CVL</th>\n      <th>CD_TIP_NVL_ITC</th>\n      <th>NM_TIP_NVL_ITC</th>\n    </tr>\n  </thead>\n  <tbody>\n    <tr>\n      <th>0</th>\n      <td>665496</td>\n      <td>AGATHA DA COSTA</td>\n      <td>12392</td>\n      <td>ASSESSOR III UE</td>\n      <td>8008</td>\n      <td>2024-05-21</td>\n      <td>2008-10-01</td>\n      <td>1970-01-01 00:00:00.004111966</td>\n      <td>2</td>\n      <td>2</td>\n      <td>CASADO(A)</td>\n      <td>8</td>\n      <td>MESTRADO</td>\n    </tr>\n    <tr>\n      <th>1</th>\n      <td>724351</td>\n      <td>ALEXIA DIAS</td>\n      <td>12331</td>\n      <td>ASSESSOR I UE</td>\n      <td>8008</td>\n      <td>2017-02-21</td>\n      <td>2002-12-16</td>\n      <td>1970-01-01 00:00:00.020021981</td>\n      <td>2</td>\n      <td>8</td>\n      <td>DIVORCIADO(A)</td>\n      <td>8</td>\n      <td>MESTRADO</td>\n    </tr>\n    <tr>\n      <th>2</th>\n      <td>850407</td>\n      <td>ALLANA MENDONCA</td>\n      <td>12331</td>\n      <td>ASSESSOR I UE</td>\n      <td>8008</td>\n      <td>2023-10-30</td>\n      <td>2012-06-11</td>\n      <td>1970-01-01 00:00:00.004101983</td>\n      <td>2</td>\n      <td>1</td>\n      <td>SOLTEIRO(A)</td>\n      <td>8</td>\n      <td>MESTRADO</td>\n    </tr>\n    <tr>\n      <th>3</th>\n      <td>872028</td>\n      <td>AMANDA SOUSA</td>\n      <td>12331</td>\n      <td>ASSESSOR I UE</td>\n      <td>8008</td>\n      <td>2022-05-23</td>\n      <td>2015-08-03</td>\n      <td>1970-01-01 00:00:00.030051979</td>\n      <td>2</td>\n      <td>2</td>\n      <td>CASADO(A)</td>\n      <td>8</td>\n      <td>MESTRADO</td>\n    </tr>\n    <tr>\n      <th>4</th>\n      <td>971323</td>\n      <td>ANA CLARA MONTENEGRO</td>\n      <td>12331</td>\n      <td>ASSESSOR I UE</td>\n      <td>8008</td>\n      <td>2023-07-06</td>\n      <td>2016-01-25</td>\n      <td>1970-01-01 00:00:00.009121982</td>\n      <td>2</td>\n      <td>2</td>\n      <td>CASADO(A)</td>\n      <td>8</td>\n      <td>MESTRADO</td>\n    </tr>\n    <tr>\n      <th>...</th>\n      <td>...</td>\n      <td>...</td>\n      <td>...</td>\n      <td>...</td>\n      <td>...</td>\n      <td>...</td>\n      <td>...</td>\n      <td>...</td>\n      <td>...</td>\n      <td>...</td>\n      <td>...</td>\n      <td>...</td>\n      <td>...</td>\n    </tr>\n    <tr>\n      <th>5282</th>\n      <td>9666342</td>\n      <td>VALENTINA DIAS</td>\n      <td>12381</td>\n      <td>ASSESSOR II UE</td>\n      <td>9984</td>\n      <td>2023-06-26</td>\n      <td>2006-11-06</td>\n      <td>1970-01-01 00:00:00.028011981</td>\n      <td>2</td>\n      <td>1</td>\n      <td>SOLTEIRO(A)</td>\n      <td>8</td>\n      <td>MESTRADO</td>\n    </tr>\n    <tr>\n      <th>5283</th>\n      <td>9794067</td>\n      <td>VITOR HUGO PIMENTA</td>\n      <td>12381</td>\n      <td>ASSESSOR II UE</td>\n      <td>9984</td>\n      <td>2021-02-22</td>\n      <td>2010-06-28</td>\n      <td>1970-01-01 00:00:00.003011975</td>\n      <td>1</td>\n      <td>1</td>\n      <td>SOLTEIRO(A)</td>\n      <td>8</td>\n      <td>MESTRADO</td>\n    </tr>\n    <tr>\n      <th>5284</th>\n      <td>9829830</td>\n      <td>VITORIA BORGES</td>\n      <td>12331</td>\n      <td>ASSESSOR I UE</td>\n      <td>9984</td>\n      <td>2012-05-02</td>\n      <td>1998-06-22</td>\n      <td>1970-01-01 00:00:00.010031980</td>\n      <td>2</td>\n      <td>2</td>\n      <td>CASADO(A)</td>\n      <td>8</td>\n      <td>MESTRADO</td>\n    </tr>\n    <tr>\n      <th>5285</th>\n      <td>9893842</td>\n      <td>YAGO RODRIGUES</td>\n      <td>12051</td>\n      <td>GER SOLUCOES UE</td>\n      <td>9984</td>\n      <td>2023-03-07</td>\n      <td>1986-10-16</td>\n      <td>1970-01-01 00:00:00.016011977</td>\n      <td>1</td>\n      <td>3</td>\n      <td>CASADO(A) COM FUNCIONARIA(O)</td>\n      <td>8</td>\n      <td>MESTRADO</td>\n    </tr>\n    <tr>\n      <th>5286</th>\n      <td>9990080</td>\n      <td>ZOE RAMOS</td>\n      <td>12010</td>\n      <td>GER EXECUTIVO UE</td>\n      <td>9984</td>\n      <td>2022-11-17</td>\n      <td>2003-05-05</td>\n      <td>1970-01-01 00:00:00.012031981</td>\n      <td>2</td>\n      <td>1</td>\n      <td>SOLTEIRO(A)</td>\n      <td>8</td>\n      <td>MESTRADO</td>\n    </tr>\n  </tbody>\n</table>\n<p>5287 rows × 13 columns</p>\n</div>"
          },
          "metadata": {}
        }
      ],
      "execution_count": 151
    },
    {
      "id": "399f13e1-a79e-4879-92f9-11c280bf13e1",
      "cell_type": "code",
      "source": "",
      "metadata": {
        "trusted": true
      },
      "outputs": [],
      "execution_count": null
    },
    {
      "id": "cdb5bbd0-df5e-48af-be01-5afb158d478a",
      "cell_type": "markdown",
      "source": "# Exercício 6 - Tabela Catálogo de Cursos\n\n<b>Nível de dificuldade (1 a 5):</b> 3\n\n<b>Ordem:</b> qualquer\n\nCriar um DataFrame Pandas chamado <b>exercicio6</b> contendo o catálodo de cursos e formações do Banco, conforme abaixo:\n\n||Nome Lógico|Nome Físico|Formato|Descrição|Aceita Nulos|Tabela Origem|Atributo Origem|\n|---|---|---|---|---|---|---|---|\n|1|Código do Curso|?|Int64|Identificador do curso. Campo numérico de 7 posições. |N|?|?|\n|2|Nome do Curso|?|object|Nome genérico do curso. |N|?|?|\n|3|Texto do Curso|?|object|Breve descrição do assunto abordado pelo curso. |N|?|?|\n|4|Texto do Objetivo do Curso|?|object|Texto que descreve o objetivo do curso. |N|?|?|\n|5|Texto do Desempenho Esperado|?|object|Texto que descreve o desempenho esperado no curso para o treinando. |S|?|?|\n|6|Texto do Objetivo Estratégico|?|object|Texto que descreve quais são os objetivos estratégicos do curso. |S|?|?|\n|7|Código da Área de Conhecimento|?|Int64|Código da área de conhecimento do curso. Campo numérico de 3. Exemplo: Área: 170 (Será este atributo) Subárea: 170.050 conhecimento: 170.050.0025.|S|?|?|\n|8|Nome da Área de Conhecimento|?|object|Descrição da área de conhecimento do curso.|S|?|?|\n|9|Código da Sub Área de Conhecimento|?|Int64|Código da sub-área do conhecimento. Exemplo: Área: 170 Subárea: 170.050 (Será o 050) conhecimento: 170.050.0025.|S|?|?|\n|10|Nome da Sub Área de Conhecimento|?|object|Descrição da sub-área do conhecimento.|S|?|?|\n|11|Código do Conhecimento do Curso|?|Int64|Código do conhecimento. Identifica o conhecimento do curso.|N|?|?|\n|12|Nome do Conhecimento do Curso|?|object|Descrição do conhecimento do curso.|S|?|?|\n|13|Quantidade de Carga Horária do Curso|?|Int64|Carga horária total do curso em horas|S|?|?|\n|14|Código do Tipo da Formação Superior|?|Int64|Código identificador da formação superior. Ex:   35- Pós-Graduação;  36- Mestrado;  37- Doutorado. |S|?|?|\n|15|Texto do Tipo da Formação Superior|?|object|Descrição da formação superior. |S|?|?|\n|16|Código da Modalidade do Curso|?|Int64|Indica o código da modalidade do curso. Sendo: 01 - Presencial; 02 - Auto-instrucional; 03 - Em serviço; 09 - A regularizar |N|?|?|\n|17|Código do Nível do Curso|?|Int64|Identificador do tipo do nível do curso (enfoque de aprendizagem). Sendo: 01 - Fundamental; 02 - Instrumental; 03 - Estratégico; 04 - Acadêmico; 09 - A classificar. |N|?|?|\n|18|Código da Natureza do Curso|?|Int64|Identificador da natureza do curso. 01 - Atualização; 02 - Formação; 03 - Aperfeiçoamento; 04 - Qualificação. |N|?|?|\n|19|Código do Tipo de Origem do Curso|?|Int64|Código dos tipos de origem do curso. 01 - Desenvolvido pelo banco; 02 - Contratado no mercado; 03 - Em parceria |N|?|?|\n|20|Código do Tipo de Público|?|Int64|Código dos tipos de público (participação) que o curso pode ter. Ex.: 1- Interno;  2- externo; 3- misto. |N|?|?|\n|21|Indicador de Vigência do Curso|?|object|Indica a utilização do curso. Possíveis valores: \"S\" - (SIM) Em Linha; \"N\" - (NÃO) Fora de linha |N|?|?|\n|22|Indicador de Trilha de Estratégica|?|object|Indica se o curso faz parte da Trilha de Estratégica de Capacitação. Possíveis valores: \"S\" - (SIM); \"N\" - (NÃO)|N|?|?|\n|23|Nome da Etapa|?|object|Descrição do tema da etapa de capacitação para os cursos que fazem parte da Trilha Estratégica. Possíveis valores: ASG, NEGOCIOS, LIDERANCA, TRANSFORMACAO DIGITAL. Formato: caixa alta, sem acentuação.|S|?|?|\n\n<b>Regra 1:</b> todas as colunas de texto devem ser formatadas conforme o padrão caixa alta e sem acento.\n\n<b>Regra 2:</b> os registros das colunas de texto que contiverem nulos deverão permanecer nulos ao final das transformações.\n\n<b>Regra 3:</b> excluir registros que atendam a alguma das regras abaixo:\n\n- quando o Texto do Objetivo do Curso for igual a 'TESTE EDUCA' ou 'TESTE GTD' ou 'TESTE' ou 'TESTANDO' ou 'DADFAFD' ou 'SGASDG' ou 'NXYZ' ou 'R';\n- quando o Texto do Objetivo do Curso for igual a 'A' e o Código da Área de Conhecimento for nulo;\n- quando o Nome do Curso contiver 'EXCEL TESTE' ou 'TESTE DISCIPLINA' ou 'EXCLUIR' ou 'ALURA';\n- quando o Nome do curso for contiver 'TESTE' e o Código da Área de Conhecimento for nulo, com exceção do curso 7740;\n- quando o Nome do curso for contiver 'TESTE' e o Texto do Objetivo do Curso for igual a '.';\n- quando o Texto do Curso contiver 'TESTE MATERIAL' ou 'TESTE GERAL'.\n- quando o Nome do curso ou o Texto do Curso contiverem 'EXCLUIDO'.",
      "metadata": {
        "tags": []
      }
    },
    {
      "id": "2b30d9b9-cdce-4f01-825c-c29838a9c319",
      "cell_type": "code",
      "source": "exercicio6 = pd.DataFrame()\nfor i in range(1, 4):\n    zip_file = f'bases/CSO/cso{i:02d}.zip'\n    df = pd.read_csv(zip_file, compression='zip', converters= {\n        'NM_CSO' : converter_texto,\n        'TX_CSO' : converter_texto,\n        'TX_OBJT_CSO' : converter_texto,\n        'TX_DSMP_EPRO' : converter_texto,\n        'TX_OBJT_ESTG' : converter_texto,\n    })\nexercicio6 = pd.concat([exercicio6, df])\nteste = exercicio6['CD_TIP_FRMC_SUPR'].isna().sum()\ndf_conhecimento_do_curso = pd.read_csv('bases/CNH.csv')    \nexercicio6 = pd.merge(exercicio6, df_conhecimento_do_curso,left_on='CD_CNH_CSO', right_on='CD_CNH', how='left')\n# exercicio6['CD_CNH'].isna().sum()\n\n\ndf_sub_area_conhecimento = pd.read_csv('bases/SUB_AREA_CNH.csv')\nexercicio6 = pd.merge(exercicio6, df_sub_area_conhecimento, on ='CD_SUB_AREA_CNH', how='left')\n# exercicio6['CD_AREA_CNH_x'].isna().sum()\n# exercicio6.head(2)\n\n# Se coloco left join aqui, aumenta pra 300 os registros com nulo\ndf_area_conhecimento = pd.read_csv('bases/AREA_CNH.csv')\nexercicio6 = pd.merge(exercicio6, df_area_conhecimento,right_on='CD_AREA_CNH', left_on='CD_AREA_CNH_x', how='left' )\n# exercicio6['CD_TIP_FRMC_SUPR'].isna().sum()\n# exercicio6['CD_TIP_FRMC_SUPR'].head(2)\n# teste\ndf_tipo_formacao_superior = pd.read_csv('bases/TIP_FRMC_SUPR.csv')\nexercicio6 = pd.merge(exercicio6, df_tipo_formacao_superior, on='CD_TIP_FRMC_SUPR', how='left' )\n\n# exercicio6 = pd.merge(exercicio6, df_area_conhecimento,right_on='CD_AREA_CNH', left_on='CD_AREA_CNH_x', how='inner' )\n# df_area_conhecimento = pd.read_csv('bases/AREA_CNH.csv')\n# df_conhecimento_do_curso = pd.read_csv('bases/CNH.csv')\n# df_tipo_formacao_superior = pd.read_csv('bases/TIP_FRMC_SUPR.csv')\ndf_lista_treinamentos = pd.read_csv('bases/lista_treinamentos.csv')\n# exercicio6 = pd.merge(exercicio6, df_conhecimento_do_curso,left_on='CD_CNH_CSO', right_on='CD_CNH', how='inner')\n# exercicio6 = pd.merge(exercicio6,df_sub_area_conhecimento, on ='CD_SUB_AREA_CNH', how='inner'  )\n# exercicio6 = pd.merge(exercicio6, df_area_conhecimento,right_on='CD_AREA_CNH', left_on='CD_AREA_CNH_x', how='inner' )\n# exercicio6 = pd.merge(exercicio6, df_tipo_formacao_superior, on='CD_TIP_FRMC_SUPR', how='inner' )\nexercicio6 = pd.merge(exercicio6, df_lista_treinamentos, left_on='CD_CSO', right_on='Código Educa', how='left' )\nexercicio6['IN_TRLA_ESTG'] = np.where(exercicio6['Código Educa'].notna(), 'S', 'N')\ncolunas = ['CD_CSO', 'NM_CSO', 'TX_CSO', 'TX_OBJT_CSO', 'TX_DSMP_EPRO', 'TX_OBJT_ESTG', \n           'CD_AREA_CNH_x','NM_AREA_CNH','CD_SUB_AREA_CNH', 'NM_SUB_AREA_CNH', 'CD_CNH_CSO','NM_CNH',\n           'CGHR_CSO', 'CD_TIP_FRMC_SUPR', 'TX_TIP_FRMC_SUPR', 'CD_MDLD_CSO','CD_NVL_CSO',\n           'CD_NTZ_CSO', 'CD_TIP_OGM_CSO', 'CD_TIP_PBCO', 'IN_VGC_CSO', 'IN_TRLA_ESTG', 'Etapa']\nexercicio6 = exercicio6[colunas]\n",
      "metadata": {
        "trusted": true
      },
      "outputs": [
        {
          "execution_count": 13,
          "output_type": "execute_result",
          "data": {
            "text/plain": "120"
          },
          "metadata": {}
        }
      ],
      "execution_count": 13
    },
    {
      "id": "08b192a7-cc92-4e0e-84e6-c9b9d8854861",
      "cell_type": "code",
      "source": "regra3_1 = ['TESTE EDUCA', 'TESTE GTD', 'TESTE', 'TESTANDO', 'DADFAFD', 'SGASDG', 'NXYZ', 'R']\n\nexercicio6 = exercicio6[~exercicio6['TX_OBJT_CSO'].isin(regra3_1) | exercicio6['TX_OBJT_CSO'].isna()]\n\nexercicio6 = exercicio6[~(((exercicio6['TX_OBJT_CSO'] == 'A') | exercicio6['TX_OBJT_CSO'].isna()) & exercicio6['CD_CNH_CSO'].isna())]\n\nregra3_3 = ['EXCEL TESTE', 'TESTE DISCIPLINA', 'EXCLUIR', 'ALURA']\nexercicio6 = exercicio6[~exercicio6['NM_CSO'].str.contains('|'.join(regra3_3), na=False)]\n\nexercicio6 = exercicio6[~((exercicio6['NM_CSO'].str.contains('TESTE', na=False)) & (exercicio6['CD_CNH_CSO'].isna()) & (exercicio6['CD_CSO'] != 7740))]\n\nexercicio6 = exercicio6[~((exercicio6['NM_CSO'].str.contains('TESTE', na=False)) & (exercicio6['TX_OBJT_CSO'] == '.'))]\n\nregra3_6 = ['TESTE MATERIAL', 'TESTE GERAL']\nexercicio6 = exercicio6[~exercicio6['TX_CSO'].str.contains('|'.join(regra3_6), na=False)]\n\nexercicio6 = exercicio6[~(exercicio6['NM_CSO'].str.contains('EXCLUIDO', na=False) | exercicio6['TX_CSO'].str.contains('EXCLUIDO', na=False))]\n\nexercicio6 = exercicio6.rename(columns={   \n    'Etapa': 'NM_ETP',\n    'CD_AREA_CNH_x' : 'CD_AREA_CNH',\n    'CGHR_CSO' : 'QT_CGHR_CSO',\n    'NM_CNH': 'NM_CNH_CSO'\n})\nexercicio6['CD_CSO'] = pd.to_numeric(exercicio6['CD_CSO']).astype('Int64')\nexercicio6['CD_AREA_CNH'] = pd.to_numeric(exercicio6['CD_AREA_CNH']).astype('Int64')\nexercicio6['CD_SUB_AREA_CNH'] = pd.to_numeric(exercicio6['CD_SUB_AREA_CNH']).astype('Int64')\nexercicio6['CD_CNH_CSO'] = pd.to_numeric(exercicio6['CD_CNH_CSO']).astype('Int64')\nexercicio6['QT_CGHR_CSO'] = pd.to_numeric(exercicio6['QT_CGHR_CSO']).astype('Int64')\nexercicio6['CD_TIP_FRMC_SUPR'] = pd.to_numeric(exercicio6['CD_TIP_FRMC_SUPR']).astype('Int64')\nexercicio6['CD_MDLD_CSO'] = pd.to_numeric(exercicio6['CD_MDLD_CSO']).astype('Int64')\nexercicio6['CD_NVL_CSO'] = pd.to_numeric(exercicio6['CD_NVL_CSO']).astype('Int64')\nexercicio6['CD_TIP_OGM_CSO'] = pd.to_numeric(exercicio6['CD_TIP_OGM_CSO']).astype('Int64')\nexercicio6['CD_NTZ_CSO'] = pd.to_numeric(exercicio6['CD_NTZ_CSO']).astype('Int64')\nexercicio6['CD_TIP_PBCO'] = pd.to_numeric(exercicio6['CD_TIP_PBCO']).astype('Int64')\n\nexercicio6['NM_ETP'] = exercicio6['NM_ETP'].replace({np.nan: None})\nexercicio6['TX_TIP_FRMC_SUPR'] = exercicio6['TX_TIP_FRMC_SUPR'].replace({np.nan: None})\nexercicio6['CD_TIP_FRMC_SUPR'] = exercicio6['CD_TIP_FRMC_SUPR'].replace({np.nan: None})\nexercicio6['QT_CGHR_CSO'] = exercicio6['QT_CGHR_CSO'].replace({np.nan: None})\nexercicio6['NM_CNH_CSO'] = exercicio6['NM_CNH_CSO'].replace({np.nan: None})\nexercicio6['NM_SUB_AREA_CNH'] = exercicio6['NM_SUB_AREA_CNH'].replace({np.nan: None})\nexercicio6['CD_SUB_AREA_CNH'] = exercicio6['CD_SUB_AREA_CNH'].replace({np.nan: None})\nexercicio6['NM_AREA_CNH'] = exercicio6['NM_AREA_CNH'].replace({np.nan: None})\nexercicio6['CD_AREA_CNH'] = exercicio6['CD_AREA_CNH'].replace({np.nan: None})\nexercicio6['TX_OBJT_ESTG'] = exercicio6['TX_OBJT_ESTG'].replace({np.nan: None})\nexercicio6['TX_DSMP_EPRO'] = exercicio6['TX_DSMP_EPRO'].replace({np.nan: None})\n\n\nexercicio6.info()\n",
      "metadata": {
        "trusted": true
      },
      "outputs": [
        {
          "name": "stdout",
          "text": "<class 'pandas.core.frame.DataFrame'>\nInt64Index: 53402 entries, 0 to 53401\nData columns (total 23 columns):\n #   Column            Non-Null Count  Dtype \n---  ------            --------------  ----- \n 0   CD_CSO            53402 non-null  Int64 \n 1   NM_CSO            53402 non-null  object\n 2   TX_CSO            53402 non-null  object\n 3   TX_OBJT_CSO       53402 non-null  object\n 4   TX_DSMP_EPRO      53402 non-null  object\n 5   TX_OBJT_ESTG      53402 non-null  object\n 6   CD_AREA_CNH       53327 non-null  object\n 7   NM_AREA_CNH       53327 non-null  object\n 8   CD_SUB_AREA_CNH   53327 non-null  object\n 9   NM_SUB_AREA_CNH   53327 non-null  object\n 10  CD_CNH_CSO        53402 non-null  Int64 \n 11  NM_CNH_CSO        53327 non-null  object\n 12  QT_CGHR_CSO       4453 non-null   object\n 13  CD_TIP_FRMC_SUPR  47798 non-null  object\n 14  TX_TIP_FRMC_SUPR  47798 non-null  object\n 15  CD_MDLD_CSO       53402 non-null  Int64 \n 16  CD_NVL_CSO        53402 non-null  Int64 \n 17  CD_NTZ_CSO        53402 non-null  Int64 \n 18  CD_TIP_OGM_CSO    53402 non-null  Int64 \n 19  CD_TIP_PBCO       53402 non-null  Int64 \n 20  IN_VGC_CSO        53402 non-null  object\n 21  IN_TRLA_ESTG      53402 non-null  object\n 22  NM_ETP            120 non-null    object\ndtypes: Int64(7), object(16)\nmemory usage: 6.9+ MB\n",
          "output_type": "stream"
        }
      ],
      "execution_count": 29
    },
    {
      "id": "4f712a5e-9d1e-4969-9914-75f5e0ec251a",
      "cell_type": "code",
      "source": "exercicio6",
      "metadata": {
        "trusted": true
      },
      "outputs": [
        {
          "execution_count": 28,
          "output_type": "execute_result",
          "data": {
            "text/plain": "        CD_CSO                          NM_CSO  \\\n0        77933  EDUCACAO CORPORATIVA: DESENVOL   \n1        77935  ANUNCIANTE E MIDIA, IV FORUM     \n2        77937  INTERNATIONAL SOCIETY FOR THE    \n3      5284040  ESPEC METODOL ENSINO SUPERIOR    \n4      5284040  ESPEC METODOL ENSINO SUPERIOR    \n...        ...                             ...   \n53397    62988  ESPECIALIZACAO EM GESTAO DE MA   \n53398    62988  ESPECIALIZACAO EM GESTAO DE MA   \n53399    62988  ESPECIALIZACAO EM GESTAO DE MA   \n53400    62988  ESPECIALIZACAO EM GESTAO DE MA   \n53401    62988  ESPECIALIZACAO EM GESTAO DE MA   \n\n                                                  TX_CSO  \\\n0      EDUCACAO CORPORATIVA: DESENVOLVENDO E GERENCIA...   \n1      ANUNCIANTE E MIDIA, IV FORUM                  ...   \n2      INTERNATIONAL SOCIETY FOR THE STUDY OF WORK, C...   \n3      ESPECIALIZACAO EM METODOLOGIA DO ENSINO SUPERI...   \n4      ESPECIALIZACAO EM METODOLOGIA DO ENSINO SUPERI...   \n...                                                  ...   \n53397  ESPECIALIZACAO EM GESTAO DE MARKETING E RECURS...   \n53398  ESPECIALIZACAO EM GESTAO DE MARKETING E RECURS...   \n53399  ESPECIALIZACAO EM GESTAO DE MARKETING E RECURS...   \n53400  ESPECIALIZACAO EM GESTAO DE MARKETING E RECURS...   \n53401  ESPECIALIZACAO EM GESTAO DE MARKETING E RECURS...   \n\n                                             TX_OBJT_CSO  \\\n0      MIGRADO  CRH/GTD                              ...   \n1      MIGRADO  CRH/GTD                              ...   \n2      MIGRADO  CRH/GTD                              ...   \n3                                       MIGRADO  CRH/GTD   \n4                                       MIGRADO  CRH/GTD   \n...                                                  ...   \n53397  MIGRADO  CRH/GTD                              ...   \n53398  MIGRADO  CRH/GTD                              ...   \n53399  MIGRADO  CRH/GTD                              ...   \n53400  MIGRADO  CRH/GTD                              ...   \n53401  MIGRADO  CRH/GTD                              ...   \n\n                                            TX_DSMP_EPRO  \\\n0      MIGRADO  CRH/GTD                              ...   \n1      MIGRADO  CRH/GTD                              ...   \n2      MIGRADO  CRH/GTD                              ...   \n3                                       MIGRADO  CRH/GTD   \n4                                       MIGRADO  CRH/GTD   \n...                                                  ...   \n53397  MIGRADO  CRH/GTD                              ...   \n53398  MIGRADO  CRH/GTD                              ...   \n53399  MIGRADO  CRH/GTD                              ...   \n53400  MIGRADO  CRH/GTD                              ...   \n53401  MIGRADO  CRH/GTD                              ...   \n\n                                            TX_OBJT_ESTG CD_AREA_CNH  \\\n0      MIGRADO  CRH/GTD                              ...         900   \n1      MIGRADO  CRH/GTD                              ...         900   \n2      MIGRADO  CRH/GTD                              ...         900   \n3                                       MIGRADO  CRH/GTD         110   \n4                                       MIGRADO  CRH/GTD         110   \n...                                                  ...         ...   \n53397  MIGRADO  CRH/GTD                              ...          10   \n53398  MIGRADO  CRH/GTD                              ...          10   \n53399  MIGRADO  CRH/GTD                              ...          10   \n53400  MIGRADO  CRH/GTD                              ...          10   \n53401  MIGRADO  CRH/GTD                              ...          10   \n\n                                             NM_AREA_CNH CD_SUB_AREA_CNH  \\\n0      A CLASSIFICAR                                 ...             990   \n1      A CLASSIFICAR                                 ...             990   \n2      A CLASSIFICAR                                 ...             990   \n3      AREA DE EDUCACAO                              ...              40   \n4      AREA DE EDUCACAO                              ...              40   \n...                                                  ...             ...   \n53397  AREA DE ADMINISTRACAO                         ...               1   \n53398  AREA DE ADMINISTRACAO                         ...               1   \n53399  AREA DE ADMINISTRACAO                         ...               1   \n53400  AREA DE ADMINISTRACAO                         ...               1   \n53401  AREA DE ADMINISTRACAO                         ...               1   \n\n                                         NM_SUB_AREA_CNH  ...  \\\n0      A CLASSIFICAR                                 ...  ...   \n1      A CLASSIFICAR                                 ...  ...   \n2      A CLASSIFICAR                                 ...  ...   \n3      AUDITORIA E PERICIA CONTABIL                  ...  ...   \n4      BOTANICA                                      ...  ...   \n...                                                  ...  ...   \n53397  MEDICINA VETERINARIA                          ...  ...   \n53398  SEGMENTACAO DE CLIENTES                       ...  ...   \n53399  PSICOLOGIA                                    ...  ...   \n53400  MEDICINA                                      ...  ...   \n53401  SERVIÇOS                                      ...  ...   \n\n       CD_TIP_FRMC_SUPR                TX_TIP_FRMC_SUPR CD_MDLD_CSO  \\\n0                     0  CONHECIMENTO TEORICO                     9   \n1                     0  CONHECIMENTO TEORICO                     9   \n2                     0  CONHECIMENTO TEORICO                     9   \n3                    35  POS-GRADUACAO LATO SENSU                 1   \n4                    35  POS-GRADUACAO LATO SENSU                 1   \n...                 ...                             ...         ...   \n53397                35  POS-GRADUACAO LATO SENSU                 9   \n53398                35  POS-GRADUACAO LATO SENSU                 9   \n53399                35  POS-GRADUACAO LATO SENSU                 9   \n53400                35  POS-GRADUACAO LATO SENSU                 9   \n53401                35  POS-GRADUACAO LATO SENSU                 9   \n\n      CD_NVL_CSO CD_NTZ_CSO  CD_TIP_OGM_CSO  CD_TIP_PBCO  IN_VGC_CSO  \\\n0              9          1               2            3           S   \n1              9          1               2            3           S   \n2              9          1               2            3           S   \n3              4          2               2            3           S   \n4              4          2               2            3           S   \n...          ...        ...             ...          ...         ...   \n53397          4          2               2            3           S   \n53398          4          2               2            3           S   \n53399          4          2               2            3           S   \n53400          4          2               2            3           S   \n53401          4          2               2            3           S   \n\n       IN_TRLA_ESTG  NM_ETP  \n0                 N    None  \n1                 N    None  \n2                 N    None  \n3                 N    None  \n4                 N    None  \n...             ...     ...  \n53397             N    None  \n53398             N    None  \n53399             N    None  \n53400             N    None  \n53401             N    None  \n\n[53402 rows x 23 columns]",
            "text/html": "<div>\n<style scoped>\n    .dataframe tbody tr th:only-of-type {\n        vertical-align: middle;\n    }\n\n    .dataframe tbody tr th {\n        vertical-align: top;\n    }\n\n    .dataframe thead th {\n        text-align: right;\n    }\n</style>\n<table border=\"1\" class=\"dataframe\">\n  <thead>\n    <tr style=\"text-align: right;\">\n      <th></th>\n      <th>CD_CSO</th>\n      <th>NM_CSO</th>\n      <th>TX_CSO</th>\n      <th>TX_OBJT_CSO</th>\n      <th>TX_DSMP_EPRO</th>\n      <th>TX_OBJT_ESTG</th>\n      <th>CD_AREA_CNH</th>\n      <th>NM_AREA_CNH</th>\n      <th>CD_SUB_AREA_CNH</th>\n      <th>NM_SUB_AREA_CNH</th>\n      <th>...</th>\n      <th>CD_TIP_FRMC_SUPR</th>\n      <th>TX_TIP_FRMC_SUPR</th>\n      <th>CD_MDLD_CSO</th>\n      <th>CD_NVL_CSO</th>\n      <th>CD_NTZ_CSO</th>\n      <th>CD_TIP_OGM_CSO</th>\n      <th>CD_TIP_PBCO</th>\n      <th>IN_VGC_CSO</th>\n      <th>IN_TRLA_ESTG</th>\n      <th>NM_ETP</th>\n    </tr>\n  </thead>\n  <tbody>\n    <tr>\n      <th>0</th>\n      <td>77933</td>\n      <td>EDUCACAO CORPORATIVA: DESENVOL</td>\n      <td>EDUCACAO CORPORATIVA: DESENVOLVENDO E GERENCIA...</td>\n      <td>MIGRADO  CRH/GTD                              ...</td>\n      <td>MIGRADO  CRH/GTD                              ...</td>\n      <td>MIGRADO  CRH/GTD                              ...</td>\n      <td>900</td>\n      <td>A CLASSIFICAR                                 ...</td>\n      <td>990</td>\n      <td>A CLASSIFICAR                                 ...</td>\n      <td>...</td>\n      <td>0</td>\n      <td>CONHECIMENTO TEORICO</td>\n      <td>9</td>\n      <td>9</td>\n      <td>1</td>\n      <td>2</td>\n      <td>3</td>\n      <td>S</td>\n      <td>N</td>\n      <td>None</td>\n    </tr>\n    <tr>\n      <th>1</th>\n      <td>77935</td>\n      <td>ANUNCIANTE E MIDIA, IV FORUM</td>\n      <td>ANUNCIANTE E MIDIA, IV FORUM                  ...</td>\n      <td>MIGRADO  CRH/GTD                              ...</td>\n      <td>MIGRADO  CRH/GTD                              ...</td>\n      <td>MIGRADO  CRH/GTD                              ...</td>\n      <td>900</td>\n      <td>A CLASSIFICAR                                 ...</td>\n      <td>990</td>\n      <td>A CLASSIFICAR                                 ...</td>\n      <td>...</td>\n      <td>0</td>\n      <td>CONHECIMENTO TEORICO</td>\n      <td>9</td>\n      <td>9</td>\n      <td>1</td>\n      <td>2</td>\n      <td>3</td>\n      <td>S</td>\n      <td>N</td>\n      <td>None</td>\n    </tr>\n    <tr>\n      <th>2</th>\n      <td>77937</td>\n      <td>INTERNATIONAL SOCIETY FOR THE</td>\n      <td>INTERNATIONAL SOCIETY FOR THE STUDY OF WORK, C...</td>\n      <td>MIGRADO  CRH/GTD                              ...</td>\n      <td>MIGRADO  CRH/GTD                              ...</td>\n      <td>MIGRADO  CRH/GTD                              ...</td>\n      <td>900</td>\n      <td>A CLASSIFICAR                                 ...</td>\n      <td>990</td>\n      <td>A CLASSIFICAR                                 ...</td>\n      <td>...</td>\n      <td>0</td>\n      <td>CONHECIMENTO TEORICO</td>\n      <td>9</td>\n      <td>9</td>\n      <td>1</td>\n      <td>2</td>\n      <td>3</td>\n      <td>S</td>\n      <td>N</td>\n      <td>None</td>\n    </tr>\n    <tr>\n      <th>3</th>\n      <td>5284040</td>\n      <td>ESPEC METODOL ENSINO SUPERIOR</td>\n      <td>ESPECIALIZACAO EM METODOLOGIA DO ENSINO SUPERI...</td>\n      <td>MIGRADO  CRH/GTD</td>\n      <td>MIGRADO  CRH/GTD</td>\n      <td>MIGRADO  CRH/GTD</td>\n      <td>110</td>\n      <td>AREA DE EDUCACAO                              ...</td>\n      <td>40</td>\n      <td>AUDITORIA E PERICIA CONTABIL                  ...</td>\n      <td>...</td>\n      <td>35</td>\n      <td>POS-GRADUACAO LATO SENSU</td>\n      <td>1</td>\n      <td>4</td>\n      <td>2</td>\n      <td>2</td>\n      <td>3</td>\n      <td>S</td>\n      <td>N</td>\n      <td>None</td>\n    </tr>\n    <tr>\n      <th>4</th>\n      <td>5284040</td>\n      <td>ESPEC METODOL ENSINO SUPERIOR</td>\n      <td>ESPECIALIZACAO EM METODOLOGIA DO ENSINO SUPERI...</td>\n      <td>MIGRADO  CRH/GTD</td>\n      <td>MIGRADO  CRH/GTD</td>\n      <td>MIGRADO  CRH/GTD</td>\n      <td>110</td>\n      <td>AREA DE EDUCACAO                              ...</td>\n      <td>40</td>\n      <td>BOTANICA                                      ...</td>\n      <td>...</td>\n      <td>35</td>\n      <td>POS-GRADUACAO LATO SENSU</td>\n      <td>1</td>\n      <td>4</td>\n      <td>2</td>\n      <td>2</td>\n      <td>3</td>\n      <td>S</td>\n      <td>N</td>\n      <td>None</td>\n    </tr>\n    <tr>\n      <th>...</th>\n      <td>...</td>\n      <td>...</td>\n      <td>...</td>\n      <td>...</td>\n      <td>...</td>\n      <td>...</td>\n      <td>...</td>\n      <td>...</td>\n      <td>...</td>\n      <td>...</td>\n      <td>...</td>\n      <td>...</td>\n      <td>...</td>\n      <td>...</td>\n      <td>...</td>\n      <td>...</td>\n      <td>...</td>\n      <td>...</td>\n      <td>...</td>\n      <td>...</td>\n      <td>...</td>\n    </tr>\n    <tr>\n      <th>53397</th>\n      <td>62988</td>\n      <td>ESPECIALIZACAO EM GESTAO DE MA</td>\n      <td>ESPECIALIZACAO EM GESTAO DE MARKETING E RECURS...</td>\n      <td>MIGRADO  CRH/GTD                              ...</td>\n      <td>MIGRADO  CRH/GTD                              ...</td>\n      <td>MIGRADO  CRH/GTD                              ...</td>\n      <td>10</td>\n      <td>AREA DE ADMINISTRACAO                         ...</td>\n      <td>1</td>\n      <td>MEDICINA VETERINARIA                          ...</td>\n      <td>...</td>\n      <td>35</td>\n      <td>POS-GRADUACAO LATO SENSU</td>\n      <td>9</td>\n      <td>4</td>\n      <td>2</td>\n      <td>2</td>\n      <td>3</td>\n      <td>S</td>\n      <td>N</td>\n      <td>None</td>\n    </tr>\n    <tr>\n      <th>53398</th>\n      <td>62988</td>\n      <td>ESPECIALIZACAO EM GESTAO DE MA</td>\n      <td>ESPECIALIZACAO EM GESTAO DE MARKETING E RECURS...</td>\n      <td>MIGRADO  CRH/GTD                              ...</td>\n      <td>MIGRADO  CRH/GTD                              ...</td>\n      <td>MIGRADO  CRH/GTD                              ...</td>\n      <td>10</td>\n      <td>AREA DE ADMINISTRACAO                         ...</td>\n      <td>1</td>\n      <td>SEGMENTACAO DE CLIENTES                       ...</td>\n      <td>...</td>\n      <td>35</td>\n      <td>POS-GRADUACAO LATO SENSU</td>\n      <td>9</td>\n      <td>4</td>\n      <td>2</td>\n      <td>2</td>\n      <td>3</td>\n      <td>S</td>\n      <td>N</td>\n      <td>None</td>\n    </tr>\n    <tr>\n      <th>53399</th>\n      <td>62988</td>\n      <td>ESPECIALIZACAO EM GESTAO DE MA</td>\n      <td>ESPECIALIZACAO EM GESTAO DE MARKETING E RECURS...</td>\n      <td>MIGRADO  CRH/GTD                              ...</td>\n      <td>MIGRADO  CRH/GTD                              ...</td>\n      <td>MIGRADO  CRH/GTD                              ...</td>\n      <td>10</td>\n      <td>AREA DE ADMINISTRACAO                         ...</td>\n      <td>1</td>\n      <td>PSICOLOGIA                                    ...</td>\n      <td>...</td>\n      <td>35</td>\n      <td>POS-GRADUACAO LATO SENSU</td>\n      <td>9</td>\n      <td>4</td>\n      <td>2</td>\n      <td>2</td>\n      <td>3</td>\n      <td>S</td>\n      <td>N</td>\n      <td>None</td>\n    </tr>\n    <tr>\n      <th>53400</th>\n      <td>62988</td>\n      <td>ESPECIALIZACAO EM GESTAO DE MA</td>\n      <td>ESPECIALIZACAO EM GESTAO DE MARKETING E RECURS...</td>\n      <td>MIGRADO  CRH/GTD                              ...</td>\n      <td>MIGRADO  CRH/GTD                              ...</td>\n      <td>MIGRADO  CRH/GTD                              ...</td>\n      <td>10</td>\n      <td>AREA DE ADMINISTRACAO                         ...</td>\n      <td>1</td>\n      <td>MEDICINA                                      ...</td>\n      <td>...</td>\n      <td>35</td>\n      <td>POS-GRADUACAO LATO SENSU</td>\n      <td>9</td>\n      <td>4</td>\n      <td>2</td>\n      <td>2</td>\n      <td>3</td>\n      <td>S</td>\n      <td>N</td>\n      <td>None</td>\n    </tr>\n    <tr>\n      <th>53401</th>\n      <td>62988</td>\n      <td>ESPECIALIZACAO EM GESTAO DE MA</td>\n      <td>ESPECIALIZACAO EM GESTAO DE MARKETING E RECURS...</td>\n      <td>MIGRADO  CRH/GTD                              ...</td>\n      <td>MIGRADO  CRH/GTD                              ...</td>\n      <td>MIGRADO  CRH/GTD                              ...</td>\n      <td>10</td>\n      <td>AREA DE ADMINISTRACAO                         ...</td>\n      <td>1</td>\n      <td>SERVIÇOS                                      ...</td>\n      <td>...</td>\n      <td>35</td>\n      <td>POS-GRADUACAO LATO SENSU</td>\n      <td>9</td>\n      <td>4</td>\n      <td>2</td>\n      <td>2</td>\n      <td>3</td>\n      <td>S</td>\n      <td>N</td>\n      <td>None</td>\n    </tr>\n  </tbody>\n</table>\n<p>53402 rows × 23 columns</p>\n</div>"
          },
          "metadata": {}
        }
      ],
      "execution_count": 28
    },
    {
      "id": "74ae8405-17db-4826-9a83-48553435f350",
      "cell_type": "markdown",
      "source": "# Exercício 7 - Nova tabela de UOR\n\n<b>Nível de dificuldade (1 a 5):</b> 4\n\n<b>Requisitos:</b> exercícios 1 e 2\n\nCriar um DataFrame Pandas chamado <b>exercicio7</b> contendo as informações das UOR e Vice-Presidência jurisdicionante, conforme abaixo:\n\n||Nome Lógico|Nome Físico|Formato|Descrição|Aceita Nulos|Tabela Origem|Atributo Origem|\n|---|---|---|---|---|---|---|---|\n|1|Código da Dependência da Unidade Organizacional|?|Int64|Código identificador de Dependências de Instituições Organizacionais. No BB atualmente é utilizado os domínios entre 1 e 9999.|N|?|?\n|2|Código da Unidade Organizacional|?|Int64|Código identificador de Unidade Organizacional (UOR) do conglomerado Banco do Brasil (no Brasil e Exterior) ou UOR externas que o BB tenha algum tipo de relacionamento ou interesse em identificá-las.|N|?|?\n|3|Sigla da Unidade Organizacional|?|object|Reunião das letras iniciais dos vocábulos fundamentais de uma denominação ou título, sem articulação prosódica, constituindo meras abreviaturas. Ex.: \"DITEC\", \"GBASE\", \"DIREO\", \"PRESI\", etc.|S|?|?\n|4|Nome da Unidade Organizacional Reduzido|?|object|Nome reduzido da Unidade Organizacional.|N|?|?\n|5|Código da Dependência da Vice-Presidência|?|Int64|Código identificador da Dependência da Vice-Presidência jurisdicionante da UOR.|S|?|?\n|6|Sigla da Vice-Presidência|?|object|Sigla da Vice-Presidência jurisdicionante da UOR.|S|?|?\n\n<b>Regra:</b> considere apenas as UORs cujo Item de Arquitetura corresponda a \"DIRETORIA\" ou \"UNIDADE\".\n\n<b>Dica:</b> atenção no momento de fazer a junção das tabelas de UOR e Vínculo de UOR. Lembrando que uma mesma dependência possui várias UORs além da principal. Consulte a documentação das tabelas.",
      "metadata": {
        "tags": []
      }
    },
    {
      "id": "13ce2e79-a47f-44b0-9c51-07c4314eff31",
      "cell_type": "code",
      "source": "exercicio7 = pd.DataFrame()\nuors = pd.DataFrame()\nfor i in range(1,13):\n    zip_file = f'bases/UOR/uor{i:02d}.zip'\n    df = pd.read_csv(zip_file, compression='zip')\n    exercicio7 = pd.concat([exercicio7, df])\n    uors = pd.concat([uors, df])\n\ndf_item_de_arquitetura = pd.read_csv('bases/ITEM_AQTT_UOR.csv', sep=';')\ndf_item_de_arquitetura['NM_ITEM_AQTT_UOR'] = df_item_de_arquitetura['NM_ITEM_AQTT_UOR'].astype(str).str.strip()\ndf_item_de_arquitetura['CD_ITEM_AQTT_UOR'] = df_item_de_arquitetura['CD_ITEM_AQTT_UOR'].astype(str).str.strip()\ndf_item_de_arquitetura['CD_ITEM_AQTT_UOR'] = df_item_de_arquitetura['CD_ITEM_AQTT_UOR'].astype('Int64')\nexercicio7['CD_ITEM_AQTT_UOR'] = exercicio7['CD_ITEM_AQTT_UOR'].astype('Int64')\n# df_item_de_arquitetura = df_item_de_arquitetura.query(\"NM_ITEM_AQTT_UOR == 'DIRETORIA' or NM_ITEM_AQTT_UOR == 'UNIDADE'\")\n# exercicio7 = pd.merge(exercicio7, df_item_de_arquitetura, on='CD_ITEM_AQTT_UOR', how='inner')\nexercicio7 = exercicio7.query(\"CD_ITEM_AQTT_UOR == 2 or CD_ITEM_AQTT_UOR == 3\")\n\n\ndf_tipo_vinculo = pd.read_csv('bases/TIP_VCL.csv')\n# abaixo seleciono apenas vinculos de jurisdicionante\ndf_tipo_vinculo = df_tipo_vinculo.query(\"CD_NTZ_TIP_VCL == 1\")\ndf_vinculo_uor = pd.read_csv('bases/VCL_UOR.csv', sep=';')\n\ndf_vinculo_uor = pd.merge(df_vinculo_uor, df_tipo_vinculo, on='CD_TIP_VCL', how='inner' )\nexercicio7 = pd.merge(exercicio7, df_vinculo_uor, left_on='CD_UOR', right_on='CD_UOR_VCLD', how='inner')\nexercicio7 = pd.merge(exercicio7, uors, left_on='CD_UOR_VCLR', right_on='CD_UOR', how='inner')\ncolunas = ['CD_DEPE_UOR_x', 'CD_UOR_x', 'SG_UOR_x', 'NM_UOR_RDZ_x', 'CD_UOR_y', 'SG_UOR_y' ]\nexercicio7 = exercicio7[colunas]\nexercicio7 = exercicio7.rename(columns={   \n    'CD_DEPE_UOR_x': 'CD_DEPE_UOR',\n    'CD_UOR_x' : 'CD_UOR',\n    'SG_UOR_x' : 'SG_UOR',\n    'NM_UOR_RDZ_x': 'NM_UOR_RDZ',\n    'CD_UOR_y' : 'CD_DEPE_VICE_PRSA',\n    'SG_UOR_y' : 'SG_VICE_PRSA'\n})\nexercicio7['CD_DEPE_UOR'] = pd.to_numeric(exercicio7['CD_DEPE_UOR'], errors='coerce').astype('Int64')\nexercicio7['CD_UOR'] = pd.to_numeric(exercicio7['CD_UOR'], errors='coerce').astype('Int64')\nexercicio7['CD_DEPE_VICE_PRSA'] = pd.to_numeric(exercicio7['CD_DEPE_VICE_PRSA'], errors='coerce').astype('Int64')\nexercicio7 = exercicio7.drop_duplicates()\nexercicio7",
      "metadata": {
        "trusted": true
      },
      "outputs": [
        {
          "execution_count": 13,
          "output_type": "execute_result",
          "data": {
            "text/plain": "      CD_DEPE_UOR  CD_UOR      SG_UOR            NM_UOR_RDZ  \\\n0            8150    4923  AUDIT       AUDITORIA INTERNA      \n1            8537    5096  SECEX       SECEX-SEC EXECUTIVA    \n2            8550    5108  DIRCO       DIRCO-CONTROLADORIA    \n3            8553    5111  DIJUR       DIJUR-JURIDICA         \n4            8556    5114  DICRE       DICRE/RISCO CREDITO    \n...           ...     ...         ...                   ...   \n1393         9010   40004  UAC         UAC-AT CAN FIS E DIG   \n1395         9968   40066  UAN         UAN-IA. ANALITICA      \n1397         9720   43773  ASG         ASG                    \n1399         9240   43834  UEG         UEG-ESTR. GOVERNO      \n1401         9078   44168  INOVA       PROG. INOVA VAREJO     \n\n      CD_DEPE_VICE_PRSA SG_VICE_PRSA  \n0                 38047               \n1                 38047               \n2                 38047               \n3                 38047               \n4                 38047               \n...                 ...          ...  \n1393              40004   UAC         \n1395              40066   UAN         \n1397              43773   ASG         \n1399              43834   UEG         \n1401              44168   INOVA       \n\n[1126 rows x 6 columns]",
            "text/html": "<div>\n<style scoped>\n    .dataframe tbody tr th:only-of-type {\n        vertical-align: middle;\n    }\n\n    .dataframe tbody tr th {\n        vertical-align: top;\n    }\n\n    .dataframe thead th {\n        text-align: right;\n    }\n</style>\n<table border=\"1\" class=\"dataframe\">\n  <thead>\n    <tr style=\"text-align: right;\">\n      <th></th>\n      <th>CD_DEPE_UOR</th>\n      <th>CD_UOR</th>\n      <th>SG_UOR</th>\n      <th>NM_UOR_RDZ</th>\n      <th>CD_DEPE_VICE_PRSA</th>\n      <th>SG_VICE_PRSA</th>\n    </tr>\n  </thead>\n  <tbody>\n    <tr>\n      <th>0</th>\n      <td>8150</td>\n      <td>4923</td>\n      <td>AUDIT</td>\n      <td>AUDITORIA INTERNA</td>\n      <td>38047</td>\n      <td></td>\n    </tr>\n    <tr>\n      <th>1</th>\n      <td>8537</td>\n      <td>5096</td>\n      <td>SECEX</td>\n      <td>SECEX-SEC EXECUTIVA</td>\n      <td>38047</td>\n      <td></td>\n    </tr>\n    <tr>\n      <th>2</th>\n      <td>8550</td>\n      <td>5108</td>\n      <td>DIRCO</td>\n      <td>DIRCO-CONTROLADORIA</td>\n      <td>38047</td>\n      <td></td>\n    </tr>\n    <tr>\n      <th>3</th>\n      <td>8553</td>\n      <td>5111</td>\n      <td>DIJUR</td>\n      <td>DIJUR-JURIDICA</td>\n      <td>38047</td>\n      <td></td>\n    </tr>\n    <tr>\n      <th>4</th>\n      <td>8556</td>\n      <td>5114</td>\n      <td>DICRE</td>\n      <td>DICRE/RISCO CREDITO</td>\n      <td>38047</td>\n      <td></td>\n    </tr>\n    <tr>\n      <th>...</th>\n      <td>...</td>\n      <td>...</td>\n      <td>...</td>\n      <td>...</td>\n      <td>...</td>\n      <td>...</td>\n    </tr>\n    <tr>\n      <th>1393</th>\n      <td>9010</td>\n      <td>40004</td>\n      <td>UAC</td>\n      <td>UAC-AT CAN FIS E DIG</td>\n      <td>40004</td>\n      <td>UAC</td>\n    </tr>\n    <tr>\n      <th>1395</th>\n      <td>9968</td>\n      <td>40066</td>\n      <td>UAN</td>\n      <td>UAN-IA. ANALITICA</td>\n      <td>40066</td>\n      <td>UAN</td>\n    </tr>\n    <tr>\n      <th>1397</th>\n      <td>9720</td>\n      <td>43773</td>\n      <td>ASG</td>\n      <td>ASG</td>\n      <td>43773</td>\n      <td>ASG</td>\n    </tr>\n    <tr>\n      <th>1399</th>\n      <td>9240</td>\n      <td>43834</td>\n      <td>UEG</td>\n      <td>UEG-ESTR. GOVERNO</td>\n      <td>43834</td>\n      <td>UEG</td>\n    </tr>\n    <tr>\n      <th>1401</th>\n      <td>9078</td>\n      <td>44168</td>\n      <td>INOVA</td>\n      <td>PROG. INOVA VAREJO</td>\n      <td>44168</td>\n      <td>INOVA</td>\n    </tr>\n  </tbody>\n</table>\n<p>1126 rows × 6 columns</p>\n</div>"
          },
          "metadata": {}
        }
      ],
      "execution_count": 13
    },
    {
      "id": "d9e51f43-a48b-4b22-ba9d-06e9994210ce",
      "cell_type": "code",
      "source": "exercicio7.info()",
      "metadata": {
        "trusted": true
      },
      "outputs": [
        {
          "name": "stdout",
          "text": "<class 'pandas.core.frame.DataFrame'>\nInt64Index: 453496 entries, 0 to 453495\nData columns (total 6 columns):\n #   Column             Non-Null Count   Dtype \n---  ------             --------------   ----- \n 0   CD_DEPE_UOR        127752 non-null  Int64 \n 1   CD_UOR             453496 non-null  Int64 \n 2   SG_UOR             109824 non-null  object\n 3   NM_UOR_RDZ         453496 non-null  object\n 4   CD_DEPE_VICE_PRSA  40869 non-null   Int64 \n 5   SG_UOR_y           38400 non-null   object\ndtypes: Int64(3), object(3)\nmemory usage: 20.3+ MB\n",
          "output_type": "stream"
        }
      ],
      "execution_count": 67
    },
    {
      "id": "36b54f61-2da0-400b-82a6-034657897251",
      "cell_type": "code",
      "source": "exercicio7",
      "metadata": {
        "trusted": true
      },
      "outputs": [
        {
          "execution_count": 68,
          "output_type": "execute_result",
          "data": {
            "text/plain": "        CD_DEPE_UOR  CD_UOR SG_UOR            NM_UOR_RDZ  CD_DEPE_VICE_PRSA  \\\n0                 1       1    NaN  RIO                                <NA>   \n1                 0       2    NaN  CVRDN-DOCENAVE                     <NA>   \n2                 2       3    NaN  MANAUS                             <NA>   \n3                 3       4    NaN  PRESIDENTE VARGAS                  <NA>   \n4                 4       5    NaN  SANTOS                             <NA>   \n...             ...     ...    ...                   ...                ...   \n453491         <NA>  414074    NaN  FARMACIA ROCHA POPUL               <NA>   \n453492         <NA>  414075    NaN  MAIS VOCE TECNOLOGIA               <NA>   \n453493         <NA>  414076    NaN  MERCANTIL RODRIGUES                <NA>   \n453494         <NA>  414077    NaN  FALCON COMERCIAL LTD               <NA>   \n453495         <NA>  414078    NaN  JL LOGISTICA INTEGRA               <NA>   \n\n       SG_UOR_y  \n0           NaN  \n1           NaN  \n2           NaN  \n3           NaN  \n4           NaN  \n...         ...  \n453491      NaN  \n453492      NaN  \n453493      NaN  \n453494      NaN  \n453495      NaN  \n\n[453496 rows x 6 columns]",
            "text/html": "<div>\n<style scoped>\n    .dataframe tbody tr th:only-of-type {\n        vertical-align: middle;\n    }\n\n    .dataframe tbody tr th {\n        vertical-align: top;\n    }\n\n    .dataframe thead th {\n        text-align: right;\n    }\n</style>\n<table border=\"1\" class=\"dataframe\">\n  <thead>\n    <tr style=\"text-align: right;\">\n      <th></th>\n      <th>CD_DEPE_UOR</th>\n      <th>CD_UOR</th>\n      <th>SG_UOR</th>\n      <th>NM_UOR_RDZ</th>\n      <th>CD_DEPE_VICE_PRSA</th>\n      <th>SG_UOR_y</th>\n    </tr>\n  </thead>\n  <tbody>\n    <tr>\n      <th>0</th>\n      <td>1</td>\n      <td>1</td>\n      <td>NaN</td>\n      <td>RIO</td>\n      <td>&lt;NA&gt;</td>\n      <td>NaN</td>\n    </tr>\n    <tr>\n      <th>1</th>\n      <td>0</td>\n      <td>2</td>\n      <td>NaN</td>\n      <td>CVRDN-DOCENAVE</td>\n      <td>&lt;NA&gt;</td>\n      <td>NaN</td>\n    </tr>\n    <tr>\n      <th>2</th>\n      <td>2</td>\n      <td>3</td>\n      <td>NaN</td>\n      <td>MANAUS</td>\n      <td>&lt;NA&gt;</td>\n      <td>NaN</td>\n    </tr>\n    <tr>\n      <th>3</th>\n      <td>3</td>\n      <td>4</td>\n      <td>NaN</td>\n      <td>PRESIDENTE VARGAS</td>\n      <td>&lt;NA&gt;</td>\n      <td>NaN</td>\n    </tr>\n    <tr>\n      <th>4</th>\n      <td>4</td>\n      <td>5</td>\n      <td>NaN</td>\n      <td>SANTOS</td>\n      <td>&lt;NA&gt;</td>\n      <td>NaN</td>\n    </tr>\n    <tr>\n      <th>...</th>\n      <td>...</td>\n      <td>...</td>\n      <td>...</td>\n      <td>...</td>\n      <td>...</td>\n      <td>...</td>\n    </tr>\n    <tr>\n      <th>453491</th>\n      <td>&lt;NA&gt;</td>\n      <td>414074</td>\n      <td>NaN</td>\n      <td>FARMACIA ROCHA POPUL</td>\n      <td>&lt;NA&gt;</td>\n      <td>NaN</td>\n    </tr>\n    <tr>\n      <th>453492</th>\n      <td>&lt;NA&gt;</td>\n      <td>414075</td>\n      <td>NaN</td>\n      <td>MAIS VOCE TECNOLOGIA</td>\n      <td>&lt;NA&gt;</td>\n      <td>NaN</td>\n    </tr>\n    <tr>\n      <th>453493</th>\n      <td>&lt;NA&gt;</td>\n      <td>414076</td>\n      <td>NaN</td>\n      <td>MERCANTIL RODRIGUES</td>\n      <td>&lt;NA&gt;</td>\n      <td>NaN</td>\n    </tr>\n    <tr>\n      <th>453494</th>\n      <td>&lt;NA&gt;</td>\n      <td>414077</td>\n      <td>NaN</td>\n      <td>FALCON COMERCIAL LTD</td>\n      <td>&lt;NA&gt;</td>\n      <td>NaN</td>\n    </tr>\n    <tr>\n      <th>453495</th>\n      <td>&lt;NA&gt;</td>\n      <td>414078</td>\n      <td>NaN</td>\n      <td>JL LOGISTICA INTEGRA</td>\n      <td>&lt;NA&gt;</td>\n      <td>NaN</td>\n    </tr>\n  </tbody>\n</table>\n<p>453496 rows × 6 columns</p>\n</div>"
          },
          "metadata": {}
        }
      ],
      "execution_count": 68
    },
    {
      "id": "fd2aa4df-e4f6-414d-8a58-8e9c70431e27",
      "cell_type": "markdown",
      "source": "# Exercício 8 - Verificação do cumprimento do indicador - Parte 1\n\n<b>Nível de dificuldade (1 a 5):</b> 4\n\n<b>Requisitos:</b> exercícios 4 e 6\n\nCriar um DataFrame Pandas chamado <b>exercicio8</b> contendo as informações consolidadas de todos os funcionários dos prefixos alvo da análise, conforme abaixo:\n\n||Nome Lógico|Nome Físico|Formato|Descrição|Aceita Nulos|Tabela Origem|Atributo Origem|\n|---|---|---|---|---|---|---|---|\n|1|Código da Matrícula do Funcionário|?|Int64|Código da matrícula (F) do funcionário. |N|?|?|\n|2|Código da Unidade Organizacional de Localização|?|Int64|Código da UOR de localização do funcionário.|N|?|?|\n|3|Quantidade Total de Cursos|?|Int64|Quantidade total de cursos realizados pelo funcionário no ano atual|N|?|?|\n|4|Quantidade Total de Cursos da Trilha|?|Int64|Quantidade total de cursos da Trilha Estratégica realizados pelo funcionário até o momento|N|?|?|\n|5|Quantidade Total de Horas no Primeiro Semestre|?|Int64|Quantidade total de horas de treinamento realizadas pelo funcionário no primeiro semestre do ano atual|N|?|?|\n|6|Quantidade Total de Horas da Trilha no Primeiro Semestre|?|Int64|Quantidade total de horas de treinamento da Trilha Estratégica realizadas pelo funcionário no primeiro semestre do ano atual|N|?|?|\n|7|Quantidade Total de Horas no Segundo Semestre|?|Int64|Quantidade total de horas de treinamento realizadas pelo funcionário no segundo semestre do ano atual|N|?|?|\n|8|Quantidade Total de Horas da Trilha no Segundo Semestre|?|Int64|Quantidade total de horas de treinamento da Trilha Estratégica realizadas pelo funcionário no segundo semestre do ano atual|N|?|?|\n|9|Indicador de Cumprimento Total da Trilha no Primeiro Semestre|?|object|Indicador que sinaliza se o funcionário realizou todos os cursos da Trilha Estratégica até o primeiro semestre. Possíveis valores: \"S\" ou \"N\".|N|?|?|\n|10|Indicador de Cumprimento Total da Trilha no Segundo Semestre|?|object|Indicador que sinaliza se o funcionário realizou todos os cursos da Trilha Estratégica até o semestre. Possíveis valores: \"S\" ou \"N\".|N|?|?|\n\n<b>Regra1:</b> ignorar os cursos para os quais não houver informação sobre a Carga Horária.\n\n<b>Regra2:</b> atentar para a ocorrência de registros duplicados.\n\n<b>Dica:</b> verifique os prefixos alvo da análise na descrição do desafio.",
      "metadata": {}
    },
    {
      "id": "87ec1a4d-a839-4ad7-96b4-2b74da023076",
      "cell_type": "code",
      "source": "",
      "metadata": {
        "trusted": true
      },
      "outputs": [],
      "execution_count": null
    },
    {
      "id": "57328271-0084-41ec-be62-31c5829c5de3",
      "cell_type": "code",
      "source": "",
      "metadata": {
        "trusted": true
      },
      "outputs": [],
      "execution_count": null
    },
    {
      "id": "ef476112-f7fb-41ba-8ccf-3c48b302e70a",
      "cell_type": "code",
      "source": "",
      "metadata": {
        "trusted": true
      },
      "outputs": [],
      "execution_count": null
    },
    {
      "id": "372d2207-0b07-49d7-be38-6b02fd0cbf01",
      "cell_type": "markdown",
      "source": "# Exercício 9 - Verificação do cumprimento do indicador - Parte 2\n\n<b>Nível de dificuldade (1 a 5):</b> 5\n\n<b>Requisitos:</b> exercício 8\n\nCriar um DataFrame Pandas chamado <b>exercicio9</b> contendo todas as informações do exercício 8 mais os atributos relacionados abaixo:\n\n||Nome Lógico|Nome Físico|Formato|Descrição|Aceita Nulos|Tabela Origem|Atributo Origem|\n|---|---|---|---|---|---|---|---|\n|10|Indicador de Funcionário Avaliável no Primeiro Semestre|?|object|Indicador que sinaliza se o funcionário é avaliável no primeiro semestre.|N|?|?|\n|11|Indicador de Funcionário Avaliável no Segundo Semestre|?|object|Indicador que sinaliza se o funcionário é avaliável no segundo semestre.|N|?|?|\n\n<b>Regra 1:</b> os funcionários que atenderem às situações abaixo elencadas serão considerados \"Não avaliáveis\"\n- Permanecerem por mais de 90 dias em situação diferente de 100-Força de Trabalho Real no semestre.\n- Atuarem como colaboradores (Disponibilidade ou Cessão) ou adidos por mais de 90 dias no semestre.\n- Cujo total de dias em situação diferente de 100-Força de Trabalho Real somado ao total de dias em colaboração (Disponibilidade ou Cessão) for maior que 90 dias.\n- Estiverem em situação de colaboração ou adição no encerramento da apuração semestral (fechamento do semestre: 30/06/2024 ou 31/12/2024)\n- Funcionários empossados no BB há menos de 90 dias no encerramento da apuração semestral.\n\n<b>Regra 2:</b> para fins de apuração do indicador de Capacitação Estratégica, considere:\n- como colaboração os funcis que apresentarem situação \"DISP\" ou \"ADIDOS\" ou \"CEDIDOS\", exceto folga.\n- como situação diferente de 100-Força de Trabalho Real apenas as situações que contemplarem:\n  - Licença Saúde (LS)\n  - Licença Interesse\n  - Licença Maternidade\n  - Licença Paternidade\n  - Nascimento de Filho - Pai\n  - Licença para assistência a pessoa enferna da família (LIC.P/AS.PES.ENF.FAM-70% PR)",
      "metadata": {}
    },
    {
      "id": "7b4418c5-c72a-4fd1-939c-49fb640a8aba",
      "cell_type": "code",
      "source": "",
      "metadata": {
        "trusted": true
      },
      "outputs": [],
      "execution_count": null
    },
    {
      "id": "9cecbf30-a1cf-4d39-a623-78aaa4e2e218",
      "cell_type": "code",
      "source": "",
      "metadata": {
        "trusted": true
      },
      "outputs": [],
      "execution_count": null
    },
    {
      "id": "04a91a1e-591c-4f82-b8e3-4ba07fd06ac7",
      "cell_type": "code",
      "source": "",
      "metadata": {
        "trusted": true
      },
      "outputs": [],
      "execution_count": null
    },
    {
      "id": "fcf1e379-e0e7-4d8c-9a3d-aa66f6fc1260",
      "cell_type": "markdown",
      "source": "# Exercício 10 - Cumprimento do indicador por prefixo\n\n<b>Nível de dificuldade (1 a 5):</b> 5\n\n<b>Requisitos:</b> exercício 9\n\n<b><<< Parte 1 >>></b>\n\nCriar um DataFrame Pandas chamado <b>exercicio10</b> contendo a consolidação das informações das UORs:\n\n||Nome Lógico|Nome Físico|Formato|Descrição|Aceita Nulos|Tabela Origem|Atributo Origem|\n|---|---|---|---|---|---|---|---|\n|1|Código da Dependência da Unidade Organizacional|?|Int64|Código identificador de Dependências de Instituições Organizacionais. No BB atualmente é utilizado os domínios entre 1 e 9999.|N|?|?|\n|2|Código da Unidade Organizacional|?|Int64|Código identificador de Unidade Organizacional (UOR) do conglomerado Banco do Brasil (no Brasil e Exterior) ou UOR externas que o BB tenha algum tipo de relacionamento ou interesse em identificá-las.|N|?|?|\n|3|Sigla da Unidade Organizacional|?|object|Reunião das letras iniciais dos vocábulos fundamentais de uma denominação ou título, sem articulação prosódica, constituindo meras abreviaturas. Ex.: \"DITEC\", \"GBASE\", \"DIREO\", \"PRESI\", etc.|N|?|?|\n|4|Nome da Unidade Organizacional Reduzido|?|object|Nome reduzido da Unidade Organizacional.|N|?|?|\n|5|Código da Dependência da Vice-Presidência|?|Int64|Código identificador da Dependência da Vice-Presidência jurisdicionante da UOR.|N|?|?|\n|6|Sigla da Vice-Presidência|?|object|Sigla da Vice-Presidência jurisdicionante da UOR.|N|?|?\n|7|Quantidade Total de Funcionários da Unidade Organizacional|?|Int64|Quantidade total de funcionários localizados na UOR|N|?|?|\n|8|Indicador de Unidade Organizacional Alvo da Análise|?|object|Indica se a UOR é alvo da análise. Possíveis valores: \"S\" ou \"N\". |N|?|?|\n|9|Índice de Atingimento do Indicador no Primeiro Semestre|?|float64|Indicativo do percentual de atingimento do indicador no primeiro semestre, caso a UOR seja alvo da análise. Varia de 0 a 1, com duas casas decimais.|S|?|?|\n|10|Índice de Atingimento do Indicador no Segundo Semestre|?|float64|Indicativo do percentual de atingimento do indicador no segundo semestre, caso a UOR seja alvo da análise. Varia de 0 a 1, com duas casas decimais.|S|?|?|\n\n<b>Regras gerais:</b>\n    \n- deverão ser listadas apenas as UORs que possuem Vice-Presidência vinculada.\n\n- verifique os prefixos alvo da análise na descrição do desafio.\n\nConsidere as regras abaixo para apuração do cumprimento do indicador para cada um dos prefixos alvo da análise:\n\n<b>Regras de apuração individual</b>: o indicador será considerado cumprido para os funcionários que:\n- completarem o mínimo de 20 horas total de cursos, sendo no mínimo 10h de treinamentos da Trilha Estratégica, realizados dentro do semestre de apuração\n- tiverem cumprido toda a Trilha Estratégica na data de apuração, desde que tenha cumprido o mínimo de 20 horas total no semestre de apuração\n\n<b>Regra de apuração por prefixo</b>: o indicador será considerado cumprido para os prefixos que tiverem 90% do público avaliável com o indicador cumprido no semestre.\n\n<b><<< Parte 2 >>></b>\n\nConsiderando as regras de apuração acima, responda às perguntas abaixo tomando por base a apuração do primeiro semestre:\n\n    a) quais os prefixos que cumpriram o indicador?\n\n    b) qual o prefixo com menor índice de cumprimento do indicador?\n\n    c) qual o prefixo com o maior índice de cumprimento do indicador?\n\n    d) qual o prefixo com o menor índice de funcionários não avaliáveis?\n\n    e) qual o maior índice de funcionários não avaliáveis dentre os observados nos prefixos avaliados?\n\nAo final do exercício, deverá ser criada uma variável para cada um dos itens acima, sendo o nome e o tipo delas conforme abaixo detalhado:\n\n|Item|Nome da variável|Tipo de objeto|\n|---|---|---|\n|a)|exercicio10a|variável do tipo list, itens do tipo int|\n|b)|exercicio10b|int|\n|c)|exercicio10c|int|\n|d)|exercicio10d|int|\n|e)|exercicio10e|float (2casas decimais)|\n\n<b>Regra 1:</b> utilize a função round() para eventuais arredondamentos.\n\n<b>Regra 2:</b> em caso de empate, o desempate será pela maior quantidade de funcionários avaliáveis no prefixo.",
      "metadata": {}
    },
    {
      "id": "d5a2ec03-f224-43d8-a73a-b778bed453f5",
      "cell_type": "code",
      "source": "",
      "metadata": {
        "trusted": true
      },
      "outputs": [],
      "execution_count": null
    },
    {
      "id": "15d6a03b-5908-4bc5-9197-051c54bc81ca",
      "cell_type": "code",
      "source": "",
      "metadata": {
        "trusted": true
      },
      "outputs": [],
      "execution_count": null
    },
    {
      "id": "2cfe3d1d-f069-48c8-b7b4-1a899723c8e3",
      "cell_type": "code",
      "source": "",
      "metadata": {
        "trusted": true
      },
      "outputs": [],
      "execution_count": null
    },
    {
      "id": "c4755e98-adca-453c-b18a-009ea735f02a",
      "cell_type": "markdown",
      "source": "# Boletim de soluções",
      "metadata": {}
    },
    {
      "id": "c440f300-e97f-413c-82e0-c27fd9d378cd",
      "cell_type": "code",
      "source": "# importar bibliotecas para geração dos artefatos\nimport pickle",
      "metadata": {
        "trusted": true
      },
      "outputs": [],
      "execution_count": null
    },
    {
      "id": "07852ba0-8f84-45a2-b8c0-9b846374fed3",
      "cell_type": "code",
      "source": "# Favor não alterar esta célula\n# verificar a existência das variáveis e gerar artefatos para verificação\nif 'exercicio1' in globals():\n    print('DataFrame exercicio1 localizado. Ele poderá ser enviado para validação.')\n    with open(f'{chaveF}_exercicio1.pkl','wb') as f:\n        pickle.dump(exercicio1, f)\nelse:\n    print('O exercício 1 não tem condições de ser avaliado.')\n\nif 'exercicio2' in globals():\n    print('DataFrame exercicio2 localizado. Ele poderá ser enviado para validação.')\n    with open(f'{chaveF}_exercicio2.pkl','wb') as f:\n        pickle.dump(exercicio2, f)\nelse:\n    print('O exercício 2 não tem condições de ser avaliado.')\n    \nif 'exercicio3' in globals():\n    print('DataFrame exercicio3 localizado. Ele poderá ser enviado para validação.')\n    with open(f'{chaveF}_exercicio3.pkl','wb') as f:\n        pickle.dump(exercicio3, f)\nelse:\n    print('O exercício 3 não tem condições de ser avaliado.')\n\nif 'exercicio4' in globals():\n    print('DataFrame exercicio4 localizado. Ele poderá ser enviado para validação.')\n    with open(f'{chaveF}_exercicio4.pkl','wb') as f:\n        pickle.dump(exercicio4, f)\nelse:\n    print('O exercício 4 não tem condições de ser avaliado.')\n\nif 'exercicio5' in globals():\n    print('DataFrame exercicio5 localizado. Ele poderá ser enviado para validação.')\n    with open(f'{chaveF}_exercicio5.pkl','wb') as f:\n        pickle.dump(exercicio5, f)\nelse:\n    print('O exercício 5 não tem condições de ser avaliado.')\n    \nif 'exercicio6' in globals():\n    print('DataFrame exercicio6 localizado. Ele poderá ser enviado para validação.')\n    with open(f'{chaveF}_exercicio6.pkl','wb') as f:\n        pickle.dump(exercicio6, f)\nelse:\n    print('O exercício 6 não tem condições de ser avaliado.')\n\nif 'exercicio7' in globals():\n    print('DataFrame exercicio7 localizado. Ele poderá ser enviado para validação.')\n    with open(f'{chaveF}_exercicio7.pkl','wb') as f:\n        pickle.dump(exercicio7, f)\nelse:\n    print('O exercício 7 não tem condições de ser avaliado.')\n\nif 'exercicio8' in globals():\n    print('DataFrame exercicio8 localizado. Ele poderá ser enviado para validação.')\n    with open(f'{chaveF}_exercicio8.pkl','wb') as f:\n        pickle.dump(exercicio8, f)\nelse:\n    print('O exercício 8 não tem condições de ser avaliado.')\n\nif 'exercicio9' in globals():\n    print('DataFrame exercicio9 localizado. Ele poderá ser enviado para validação.')\n    with open(f'{chaveF}_exercicio9.pkl','wb') as f:\n        pickle.dump(exercicio9, f)\nelse:\n    print('O exercício 9 não tem condições de ser avaliado.')\n\n\nexercicio10_variaveis = {}\n\nexercicio10_variaveis['variavel'] = []\nexercicio10_variaveis['valor'] = []\nif 'exercicio10a' in globals():\n    exercicio10_variaveis['variavel'].append('exercicio10a')\n    exercicio10_variaveis['valor'].append(exercicio10a)\nif 'exercicio10b' in globals():\n    exercicio10_variaveis['variavel'].append('exercicio10b')\n    exercicio10_variaveis['valor'].append(exercicio10b)\nif 'exercicio10b' in globals():\n    exercicio10_variaveis['variavel'].append('exercicio10c')\n    exercicio10_variaveis['valor'].append(exercicio10c)\nif 'exercicio10d' in globals():\n    exercicio10_variaveis['variavel'].append('exercicio10d')\n    exercicio10_variaveis['valor'].append(exercicio10d)\nif 'exercicio10e' in globals():\n    exercicio10_variaveis['variavel'].append('exercicio10e')\n    exercicio10_variaveis['valor'].append(exercicio10e)\n\nexercicio10_variaveis = pd.DataFrame(exercicio10_variaveis)\nif exercicio10_variaveis.shape[0] == 5 and 'exercicio10' in globals():\n    print('DataFrame exercicio10 localizado. Ele poderá ser enviado para validação.')\n    print('Variáveis exercicio10a, exercicio10b, exercicio10c, exercicio10d e exercicio10e localizadas. Elas poderão ser enviadas para validação.')\n    with open(f'{chaveF}_exercicio10_variaveis.pkl','wb') as f:\n        pickle.dump(exercicio10_variaveis, f)\n    with open(f'{chaveF}_exercicio10.pkl','wb') as f:\n        pickle.dump(exercicio10, f)\n\nelse:\n    print('O exercício 10 não tem condições de ser avaliado.')",
      "metadata": {
        "trusted": true
      },
      "outputs": [],
      "execution_count": null
    },
    {
      "id": "39f3c265-c249-4803-b508-18a58875a28a",
      "cell_type": "code",
      "source": "",
      "metadata": {
        "trusted": true
      },
      "outputs": [],
      "execution_count": null
    }
  ]
}